{
  "nbformat": 4,
  "nbformat_minor": 0,
  "metadata": {
    "colab": {
      "name": "pruebaWebScraping.ipynb",
      "version": "0.3.2",
      "provenance": [],
      "include_colab_link": true
    },
    "kernelspec": {
      "display_name": "Python 3",
      "language": "python",
      "name": "python3"
    }
  },
  "cells": [
    {
      "cell_type": "markdown",
      "metadata": {
        "id": "view-in-github",
        "colab_type": "text"
      },
      "source": [
        "<a href=\"https://colab.research.google.com/github/jfpablos/TFM/blob/master/pruebaWebScraping/pruebaWebScraping.ipynb\" target=\"_parent\"><img src=\"https://colab.research.google.com/assets/colab-badge.svg\" alt=\"Open In Colab\"/></a>"
      ]
    },
    {
      "metadata": {
        "id": "lvpn8S9d3i1i",
        "colab_type": "text"
      },
      "cell_type": "markdown",
      "source": [
        "## ENTORNO"
      ]
    },
    {
      "metadata": {
        "id": "dA2FoyJFf5YM",
        "colab_type": "code",
        "colab": {}
      },
      "cell_type": "code",
      "source": [
        "import requests\n",
        "from bs4 import BeautifulSoup\n",
        "import re"
      ],
      "execution_count": 0,
      "outputs": []
    },
    {
      "metadata": {
        "id": "noL3aW5BS4FP",
        "colab_type": "code",
        "outputId": "83d7aff7-b0fa-48fe-8dda-4cdb21935fec",
        "colab": {
          "base_uri": "https://localhost:8080/",
          "height": 1258
        }
      },
      "cell_type": "code",
      "source": [
        "!apt-get update\n",
        "!apt install chromium-chromedriver\n",
        "!pip install selenium\n",
        "!cp /usr/lib/chromium-browser/chromedriver /usr/bin\n",
        "import sys\n",
        "sys.path.insert(0,'/usr/lib/chromium-browser/chromedriver')\n",
        "from selenium import webdriver\n",
        "from selenium.webdriver.common.keys import Keys"
      ],
      "execution_count": 16,
      "outputs": [
        {
          "output_type": "stream",
          "text": [
            "\r0% [Working]\r            \rIgn:1 https://developer.download.nvidia.com/compute/cuda/repos/ubuntu1804/x86_64  InRelease\n",
            "\r0% [Connecting to archive.ubuntu.com (91.189.88.149)] [Waiting for headers] [Wa\r                                                                               \rGet:2 https://cloud.r-project.org/bin/linux/ubuntu bionic-cran35/ InRelease [3,609 B]\n",
            "\r0% [Connecting to archive.ubuntu.com (91.189.88.149)] [Waiting for headers] [2 \r0% [Connecting to archive.ubuntu.com (91.189.88.149)] [Waiting for headers] [Wa\r                                                                               \rGet:3 http://security.ubuntu.com/ubuntu bionic-security InRelease [88.7 kB]\n",
            "\r0% [Connecting to archive.ubuntu.com (91.189.88.149)] [3 InRelease 2,586 B/88.7\r0% [2 InRelease gpgv 3,609 B] [Connecting to archive.ubuntu.com (91.189.88.149)\r                                                                               \rHit:4 http://ppa.launchpad.net/graphics-drivers/ppa/ubuntu bionic InRelease\n",
            "\r0% [2 InRelease gpgv 3,609 B] [Waiting for headers] [3 InRelease 11.3 kB/88.7 k\r                                                                               \rIgn:5 https://developer.download.nvidia.com/compute/machine-learning/repos/ubuntu1804/x86_64  InRelease\n",
            "Hit:6 https://developer.download.nvidia.com/compute/cuda/repos/ubuntu1804/x86_64  Release\n",
            "Hit:7 https://developer.download.nvidia.com/compute/machine-learning/repos/ubuntu1804/x86_64  Release\n",
            "Hit:8 http://archive.ubuntu.com/ubuntu bionic InRelease\n",
            "Get:9 http://archive.ubuntu.com/ubuntu bionic-updates InRelease [88.7 kB]\n",
            "Get:10 http://ppa.launchpad.net/marutter/c2d4u3.5/ubuntu bionic InRelease [15.4 kB]\n",
            "Get:11 https://cloud.r-project.org/bin/linux/ubuntu bionic-cran35/ Packages [57.7 kB]\n",
            "Get:12 http://archive.ubuntu.com/ubuntu bionic-backports InRelease [74.6 kB]\n",
            "Get:15 http://ppa.launchpad.net/marutter/c2d4u3.5/ubuntu bionic/main Sources [1,615 kB]\n",
            "Get:16 http://security.ubuntu.com/ubuntu bionic-security/multiverse amd64 Packages [3,910 B]\n",
            "Get:17 http://security.ubuntu.com/ubuntu bionic-security/main amd64 Packages [359 kB]\n",
            "Get:18 http://archive.ubuntu.com/ubuntu bionic-updates/multiverse amd64 Packages [6,965 B]\n",
            "Get:19 http://archive.ubuntu.com/ubuntu bionic-updates/main amd64 Packages [717 kB]\n",
            "Get:20 http://security.ubuntu.com/ubuntu bionic-security/universe amd64 Packages [158 kB]\n",
            "Get:21 http://archive.ubuntu.com/ubuntu bionic-updates/universe amd64 Packages [950 kB]\n",
            "Get:22 http://archive.ubuntu.com/ubuntu bionic-backports/universe amd64 Packages [3,659 B]\n",
            "Get:23 http://ppa.launchpad.net/marutter/c2d4u3.5/ubuntu bionic/main amd64 Packages [775 kB]\n",
            "Fetched 4,918 kB in 3s (1,600 kB/s)\n",
            "Reading package lists... Done\n",
            "Reading package lists... Done\n",
            "Building dependency tree       \n",
            "Reading state information... Done\n",
            "The following package was automatically installed and is no longer required:\n",
            "  libnvidia-common-410\n",
            "Use 'apt autoremove' to remove it.\n",
            "The following additional packages will be installed:\n",
            "  chromium-browser chromium-browser-l10n chromium-codecs-ffmpeg-extra\n",
            "Suggested packages:\n",
            "  webaccounts-chromium-extension unity-chromium-extension adobe-flashplugin\n",
            "The following NEW packages will be installed:\n",
            "  chromium-browser chromium-browser-l10n chromium-chromedriver\n",
            "  chromium-codecs-ffmpeg-extra\n",
            "0 upgraded, 4 newly installed, 0 to remove and 51 not upgraded.\n",
            "Need to get 66.2 MB of archives.\n",
            "After this operation, 244 MB of additional disk space will be used.\n",
            "Get:1 http://archive.ubuntu.com/ubuntu bionic-updates/universe amd64 chromium-codecs-ffmpeg-extra amd64 72.0.3626.121-0ubuntu0.18.04.1 [1,106 kB]\n",
            "Get:2 http://archive.ubuntu.com/ubuntu bionic-updates/universe amd64 chromium-browser amd64 72.0.3626.121-0ubuntu0.18.04.1 [58.0 MB]\n",
            "Get:3 http://archive.ubuntu.com/ubuntu bionic-updates/universe amd64 chromium-browser-l10n all 72.0.3626.121-0ubuntu0.18.04.1 [2,769 kB]\n",
            "Get:4 http://archive.ubuntu.com/ubuntu bionic-updates/universe amd64 chromium-chromedriver amd64 72.0.3626.121-0ubuntu0.18.04.1 [4,311 kB]\n",
            "Fetched 66.2 MB in 3s (22.9 MB/s)\n",
            "Selecting previously unselected package chromium-codecs-ffmpeg-extra.\n",
            "(Reading database ... 131323 files and directories currently installed.)\n",
            "Preparing to unpack .../chromium-codecs-ffmpeg-extra_72.0.3626.121-0ubuntu0.18.04.1_amd64.deb ...\n",
            "Unpacking chromium-codecs-ffmpeg-extra (72.0.3626.121-0ubuntu0.18.04.1) ...\n",
            "Selecting previously unselected package chromium-browser.\n",
            "Preparing to unpack .../chromium-browser_72.0.3626.121-0ubuntu0.18.04.1_amd64.deb ...\n",
            "Unpacking chromium-browser (72.0.3626.121-0ubuntu0.18.04.1) ...\n",
            "Selecting previously unselected package chromium-browser-l10n.\n",
            "Preparing to unpack .../chromium-browser-l10n_72.0.3626.121-0ubuntu0.18.04.1_all.deb ...\n",
            "Unpacking chromium-browser-l10n (72.0.3626.121-0ubuntu0.18.04.1) ...\n",
            "Selecting previously unselected package chromium-chromedriver.\n",
            "Preparing to unpack .../chromium-chromedriver_72.0.3626.121-0ubuntu0.18.04.1_amd64.deb ...\n",
            "Unpacking chromium-chromedriver (72.0.3626.121-0ubuntu0.18.04.1) ...\n",
            "Processing triggers for mime-support (3.60ubuntu1) ...\n",
            "Setting up chromium-codecs-ffmpeg-extra (72.0.3626.121-0ubuntu0.18.04.1) ...\n",
            "Processing triggers for man-db (2.8.3-2ubuntu0.1) ...\n",
            "Processing triggers for hicolor-icon-theme (0.17-2) ...\n",
            "Setting up chromium-browser (72.0.3626.121-0ubuntu0.18.04.1) ...\n",
            "update-alternatives: using /usr/bin/chromium-browser to provide /usr/bin/x-www-browser (x-www-browser) in auto mode\n",
            "update-alternatives: using /usr/bin/chromium-browser to provide /usr/bin/gnome-www-browser (gnome-www-browser) in auto mode\n",
            "Setting up chromium-chromedriver (72.0.3626.121-0ubuntu0.18.04.1) ...\n",
            "Setting up chromium-browser-l10n (72.0.3626.121-0ubuntu0.18.04.1) ...\n",
            "Collecting selenium\n",
            "\u001b[?25l  Downloading https://files.pythonhosted.org/packages/80/d6/4294f0b4bce4de0abf13e17190289f9d0613b0a44e5dd6a7f5ca98459853/selenium-3.141.0-py2.py3-none-any.whl (904kB)\n",
            "\u001b[K    100% |████████████████████████████████| 911kB 21.8MB/s \n",
            "\u001b[?25hRequirement already satisfied: urllib3 in /usr/local/lib/python3.6/dist-packages (from selenium) (1.22)\n",
            "Installing collected packages: selenium\n",
            "Successfully installed selenium-3.141.0\n",
            "cp: cannot stat '/usr/lib/chromium-browser/chromedriver': No such file or directory\n"
          ],
          "name": "stdout"
        }
      ]
    },
    {
      "metadata": {
        "id": "rV_aXH8cf5YS",
        "colab_type": "text"
      },
      "cell_type": "markdown",
      "source": [
        "## URLs"
      ]
    },
    {
      "metadata": {
        "id": "03eEhVK9f5YT",
        "colab_type": "code",
        "colab": {}
      },
      "cell_type": "code",
      "source": [
        "url = {\n",
        "    'google': 'https://www.google.com/search?q=ibex+35&lr=&cr=countryES&hl=es&tbs=ctr:countryES&source=lnms&tbm=nws',\n",
        "    'bing': 'https://www.bing.com/news/search?q=ibex+35&cc=es',\n",
        "    'yahoo': 'https://es.news.search.yahoo.com/search?p=ibex+35',\n",
        "    'duck': 'https://duckduckgo.com/?q=ibex+35&t=h_&iar=news&ia=news&kl=es-es&df=d',\n",
        "    'ask': 'https://www.search.ask.com/search?ctype=news&q=ibex+35',\n",
        "    'naver': 'https://search.naver.com/search.naver?where=news&query=ibex+35',\n",
        "    'baidu': 'https://www.baidu.com/s?wd=ibex+35&tn=news&rtt=1',\n",
        "    'yandex': 'https://news.yandex.com/yandsearch?rpt=nnews2&grhow=clutop&text=ibex%2035',\n",
        "    'qwant' : 'https://www.qwant.com/?q=ibex+35&t=news&r=ES'\n",
        "}\n",
        "\n",
        "#https://www.bing.com/news/search?q=ibex+35&cc=IT para cambiar de pais se cambia el parametro cc= , pj: cc=IT Italia, cc=ES España, cc=DE Alemania\n",
        "#https://www.qwant.com/?q=ibex+35&t=news&r=ES\n",
        "#https://www.google.com/search?q=ibex+35&lr=&cr=countryDE&hl=es&tbs=ctr:countryDE&tbm=nws  countryDE cambiar este parametro para cambiar de pais p.j para cambiar a España countryES"
      ],
      "execution_count": 0,
      "outputs": []
    },
    {
      "metadata": {
        "id": "mmV15Iwdf5YW",
        "colab_type": "text"
      },
      "cell_type": "markdown",
      "source": [
        "## Google"
      ]
    },
    {
      "metadata": {
        "id": "8YEwW7uvR9th",
        "colab_type": "code",
        "colab": {
          "base_uri": "https://localhost:8080/",
          "height": 54
        },
        "outputId": "c7902aa5-d312-4891-a318-241aa4a6565c"
      },
      "cell_type": "code",
      "source": [
        "def google():\n",
        "  page = requests.get(url['google']).text\n",
        "  soup = BeautifulSoup(page, \"html.parser\")\n",
        "  texto = [t.find('h3').text + t.find(class_=\"st\").text for t in soup.find_all(\"div\", {\"class\" :\"g\"})]\n",
        "  print(texto)\n",
        "  \n",
        "google()"
      ],
      "execution_count": 5,
      "outputs": [
        {
          "output_type": "stream",
          "text": [
            "['El Brexit e Inditex llevan a pérdidas al Ibex 35El Ibex 35 ha comenzado la sesión de este miércoles con un retroceso del 0,3% y cotizaba en los 9.134,1 puntos, penalizado por el retroceso\\xa0...', 'Santander lidera las ganancias en el Ibex 35 después de que RBC ...Banco Santander sale al rescate del Ibex 35 este miércoles. El selectivo español podría sufrir un desplome arrastrado por las fuertes caídas de\\xa0...', 'El beneficio conjunto de las cotizadas del Ibex 35 se redujo en 2 ...MADRID (EP). Las empresas que conforman el Ibex 35 registraron un beneficio neto agregado de 42.631,1 millones de euros al cierre del\\xa0...', 'Las empresas del Ibex 35 ganaron más de 42.600 millones en 2018 ...Esta cifra recoge las cuentas de 34 de las 35 firman que componen el selectivo nacional, dado que no tiene en cuenta los resultados de\\xa0...', 'Los principales directivos del Ibex 35 ganan 87 veces más que la ...Los principales ejecutivos del Ibex 35 ganaron en 2017 una remuneración media que fue 86,6 veces más elevada que la media percibida por\\xa0...', 'IAG, de las que más sube en el Ibex 35 después de una mejora de ...El conglomerado de aerolíneas, como Iberia o British Airways, entre otras, se sitúa entre los valores más alcistas en el Ibex 35 esta sesión.', 'Ibex 35: Escenario técnico para las próximas horas (13-05-19)... • Escenario 1: cierre de vela en 30 minutos por debajo de 9.125,2, ampliaría las probabilidades de una caída mayor con objetivo 9.105,94 y 9.071,1 en\\xa0...', 'Sin motivos para subir: el Ibex-35 cierra con un mínimo recorteJornada bastante aburrida en los mercados, con los inversores atentos, por un lado, a la enésima votación sobre el Brexit y a las caídas de\\xa0...', 'El Ibex 35 se deja un 0,11% ante los bandazos del brexitEl Ibex 35 se deja un 0,11% hasta los 9.161,7 puntos ante los bandazos del brexit después de que este martes se haya conocido que el fiscal\\xa0...', 'El Ibex 35 gira al alza apoyado en la banca y cierra con una subida ...El Ibex 35 cierra casi en máximos del día en 9.171,9 puntos tras anotarse un alza del 0,47%. En concreto, el máximo se ha situado en 9.177\\xa0...']\n"
          ],
          "name": "stdout"
        }
      ]
    },
    {
      "metadata": {
        "id": "EtiFn933f5Y2",
        "colab_type": "text"
      },
      "cell_type": "markdown",
      "source": [
        "## Bing "
      ]
    },
    {
      "metadata": {
        "id": "vwNJ0oH0fW97",
        "colab_type": "code",
        "colab": {
          "base_uri": "https://localhost:8080/",
          "height": 54
        },
        "outputId": "c5f2172d-7018-4a1a-c24e-4252ce4ba6d8"
      },
      "cell_type": "code",
      "source": [
        "def bing():\n",
        "  page = requests.get(url['bing']).text\n",
        "  soup = BeautifulSoup(page, \"html.parser\")\n",
        "  text = [t.find(class_='title').text + t.find(class_='snippet').text for t in soup.find_all('div', class_='t_s')]\n",
        "  print(text)\n",
        "  \n",
        "bing()\n",
        "  "
      ],
      "execution_count": 5,
      "outputs": [
        {
          "output_type": "stream",
          "text": [
            "['El Ibex 35 ataca resistencias impulsado por la banca, a la espera de la votación para retrasar (o no) el BrexitEuropa vuelve a optar este jueves por las compras, pero con cautela. Las principales bolsas del Viejo Continente se tiñen de verde en una sesión en la que la atención sigue puesta en cualquier novedad ...', 'El Ibex 35 acaricia los 9.200 puntos con el empuje de la banca16:50 horas. El Ibex sueña con los 9.200 puntos El principal indicador de la Bolsa española, el Ibex 35, sueña con el nivel de los 9.200 puntos. A media hora para el cierre de mercados en España, el i...', 'El Ibex 35 amanece con tímidas subidas del 0,18%La falta de un rumbo claro hace a los mercados arrancar a cotizar con cautela, después del comportamiento asiático tras los datos macro en China y a la espera de ver qué ocurre hoy en Londres, donde p...', 'El Ibex-35 se queda a las puertas de los 9.200El Ibex-35 arrancaba la sesión con pérdidas, pero a partir de las once y media de la mañana entró en positivo. Le costó alcanzar los 9.200 puntos, pero al cierre daba un último cambio en los 9.192,7 p...', 'Economía/Bolsa.- El Ibex 35 sube un 0,2% en la apertura y conquista los 9.200 atento al proceso sobre el BrexitEl Ibex 35 ha iniciado la sesión de este jueves con una subida del 0,2%, lo que ha llevado al selectivo a situarse en los 9.211,1 enteros a las 9.01 horas, en una jornada en la que los inversores volv...', 'Futuro Ibex 35 intradía: resistencia clave de corto plazo en 9234,00Punto pivote (nivel de invalidación): 9234,00. Nuestra preferencia: posiciones cortas debajo de 9234,00 con objetivos en 9148,00 y 9125,00 en extensión. Escenario alternativo: arriba de 9234,00 buscar ...', 'El Ibex 35 cierra cerca de los 9.200 con una subida del 0,34%El Ibex 35 ha cerrado la sesión con una subida del 0,34% hasta situarse en los 9.192 puntos lo que le ha llevado a acercarse a la cota de los 9.200. La jornada ha estado marcada por la incertidumbre q...', 'El Ibex 35 se queda a las puertas de los 9.200 puntos con una subida del 0,34%En concreto, el selectivo madrileño se ha situado en los 9.192,7 puntos, con la mayoría de sus valores en positivo, un día después de que la primera ministra británica, Theresa May, perdiera nuevament...', 'El Ibex avanza un 0,2% al comienzo del juevesApertura positiva del jueves para el Ibex 35 (+0,2%). La Bolsa de Madrid comenzaba la sesión con su selectivo en las 9.211,1 unidades, la prima de riesgo en los 111 puntos básicos, y la rentabilidad d...', 'El Ibex-35 cierra al alza por unos sólidos y pese a lastre de InditexEl Ibex-35 de la bolsa española cerró el miércoles al alza, en línea con otros mercados internacionales, impulsado por las esperanzas de que no haya un Brexit sin acuerdo y unos sólidos datos ...', 'El Ibex 35 espera con subidas la decisión sobre el BrexitEl Ibex 35 ha iniciado la sesión de este jueves con una subida del 0,2%, lo que ha llevado al selectivo a situarse en los 9.211,1 enteros en la apertura, en una jornada en la que los inversores volver...', 'El Ibex 35 sube un 0,34% impulsado por la banca y pendiente de una nueva decisión sobre el ‘Brexit’El principal indicador de la Bolsa española, el Ibex 35, ha cerrado este miércoles con un alza del 0,34% y roza los 9.200 puntos gracias al alza de la banca, que ha permitido paliar la fuerte ...']\n"
          ],
          "name": "stdout"
        }
      ]
    },
    {
      "metadata": {
        "id": "6fSIYAc1f5Y9",
        "colab_type": "code",
        "outputId": "988212e7-cd93-4df7-e3b3-612800db26c7",
        "colab": {}
      },
      "cell_type": "code",
      "source": [
        "print(bing.status_code)"
      ],
      "execution_count": 0,
      "outputs": [
        {
          "output_type": "stream",
          "text": [
            "200\n"
          ],
          "name": "stdout"
        }
      ]
    },
    {
      "metadata": {
        "id": "0Gq9WVodf5ZC",
        "colab_type": "text"
      },
      "cell_type": "markdown",
      "source": [
        "## Yahoo"
      ]
    },
    {
      "metadata": {
        "id": "YU4tnrDjnx_v",
        "colab_type": "code",
        "outputId": "ac557eea-79bb-4d24-8561-73f3a0cda7da",
        "colab": {
          "base_uri": "https://localhost:8080/",
          "height": 54
        }
      },
      "cell_type": "code",
      "source": [
        "def yahoo():\n",
        "  page = requests.get(url['yahoo']).text\n",
        "  soup = BeautifulSoup(page, \"html.parser\")\n",
        "  text = [p.find('h3').text + p.find('p').text for p in soup.find(class_='searchCenterMiddle').find_all('li')]\n",
        "    \n",
        "  return text\n",
        "\n",
        "print(yahoo())"
      ],
      "execution_count": 7,
      "outputs": [
        {
          "output_type": "stream",
          "text": [
            "['El Ibex avanza por el momentáneo alivio del Brexit aunque China impone cautelaEl Ibex-35 abría el jueves con un repunte moderado, animado por la reducción de ... ', 'El Ibex 35 acaricia los 9.200 puntos con el empuje de la banca16:50 horas. El Ibex sueña con los 9.200 puntosEl principal indicador de la Bolsa española, el Ibex 35, sueña con el nivel de los 9.200 puntos. A media hora para el cierre de mercados en España ... ', 'El IBEX 35 sube el 0,31 % a mediodía por la banca, que neutraliza a InditexMadrid, 13 mar (EFE). El principal indicador de la Bolsa española, el IBEX 35, se ha dado la vuelta y a mediodía sube el 0,31 %, gracias a la banca, sobre todo, a Santander, que con ganancias ... ', \"El Ibex celebra que no habrá un 'hard Brexit' reconquistando los 9.200 puntosLa bolsa española ha abierto con suaves alzas del 0,4% para el Ibex 35, que cotiza en los 9.232 puntos. En el resto de Europa, el Dax suma un 0,1% y el EuroStoxx50 avanza el 0,1%, por un 0,3% que gana el Ftse MIB italiano. En la mañana de hoy hay... \", 'Ibex 35, en directo: las malas perspectivas económicas lastran las BolsasLos futuros europeos apuntan a caídas del 0,6% y los mercados asiáticos bajan con fuerza ', 'La Bolsa española sube el 0,41 % tras la apertura y recupera los 9.200 puntosMadrid, 14 mar (EFE). La Bolsa española, tras abrir plana, sube el 0,41 % en los primeros compases de la sesión, y recupera los 9.200 puntos, después de que el Parlamento británico haya rechazado ... ', 'El Ibex encara la recta final con pérdidas del 1% y sobre los 9.100 puntos17:00 horas. El Ibex encara la recta final con pérdidas del 1%El principal indicador de la Bolsa española, el Ibex 35, encara el tramo final de la jornada anclado en pérdidas del 1,2% y sobre la cota de los 9.130 puntos. El selectivo cerrará la... ', 'El Ibex sobrevive a las caídas del Dow Jones y al desplome de Boeing14.45 horas. El Ibex aguanta la presión bajista de Wall Street y el desplome de BoeingEl Ibex 35 mantiene las alzas en el 0,1% y se mueve en los 9.140 puntos. El selectivo aguanta el tipo y resiste tras la apertura negativa de Nueva York, donde el... ', 'El Ibex-35 cierra al alza pese al lastre de InditexEl Ibex-35 de la bolsa española cerró el miércoles al alza, en línea con otros mercados internacionales, impulsado por las esperanzas de que no haya un Brexit sin acuerdo y unos sólidos datos ... ', 'El salario de primeros ejecutivos del Ibex supera en 87 veces al de plantillaMadrid, 12 mar (EFE). La retribución de los presidentes ejecutivos y consejeros delegados de las empresas del Ibex 35 fue 86,6 veces superior al salario medio del conjunto de las plantillas ... ']\n"
          ],
          "name": "stdout"
        }
      ]
    },
    {
      "metadata": {
        "id": "MnG3DGY_f5ZL",
        "colab_type": "text"
      },
      "cell_type": "markdown",
      "source": [
        "## Duck"
      ]
    },
    {
      "metadata": {
        "id": "KnRc_Jkd1_tz",
        "colab_type": "code",
        "outputId": "c875793b-c29e-4906-f1f1-500874fa43ea",
        "colab": {
          "base_uri": "https://localhost:8080/",
          "height": 88
        }
      },
      "cell_type": "code",
      "source": [
        "def duck():\n",
        "  chrome_options = webdriver.ChromeOptions()\n",
        "  chrome_options.add_argument('--headless')\n",
        "  chrome_options.add_argument('--no-sandbox')\n",
        "  chrome_options.add_argument('--disable-dev-shm-usage')\n",
        "  wd = webdriver.Chrome('chromedriver',chrome_options=chrome_options)\n",
        "  wd.get(\"https://duckduckgo.com/?q=ibex+35&t=h_&iar=news&ia=news&kl=es-es&df=d\")\n",
        "  results=wd.find_elements_by_xpath(\"//div[@class='results js-vertical-results']/div/div/h2/a\")\n",
        "\n",
        "  description=[]\n",
        "\n",
        "  for result in results:\n",
        "      description.append(result.text)\n",
        "\n",
        "  '''for i in range(len(description)):\n",
        "      print(description[i])'''\n",
        "\n",
        "  description = filter(None, description)\n",
        "  print(list(description))\n",
        "\n",
        "duck()"
      ],
      "execution_count": 8,
      "outputs": [
        {
          "output_type": "stream",
          "text": [
            "/usr/local/lib/python3.6/dist-packages/ipykernel_launcher.py:6: DeprecationWarning: use options instead of chrome_options\n",
            "  \n"
          ],
          "name": "stderr"
        },
        {
          "output_type": "stream",
          "text": [
            "['El IBEX 35 sube el 0,31 % a mediodía por la banca, que neutraliza a Inditex', 'La banca suple a Inditex y lleva al Ibex hacia los 9.200 puntos', 'Ibex en directo: sube la Bolsa gracias a Santander y pese a Inditex', 'El IBEX cae el 0,32 por ciento en la apertura por Inditex y el rechazo al \"brexit\"', 'Sin motivos para subir: el Ibex-35 cierra con un mínimo recorte', \"El Ibex 35 abre a la baja, lastrado por Inditex y la incertidumbre sobre el 'Brexit'\", 'El Ibex cierra con leve caída a la espera de la votación del Brexit', 'Castigo a Inditex en los mercados: el gigante textil encabeza las caídas en el Ibex 35 y el Eurostoxx 50', 'España reúne condiciones para ser líder en financiación sostenible', 'El Ibex cae por aversión al riesgo ante la incertidumbre del Brexit y el batacazo de Inditex', 'Las empresas del IBEX pagan 87 veces más a sus ejecutivos que a sus trabajadores', \"Esperando el 'Brexit'\", \"El ibex se deja un 0,11% a la espera de noticias sobre el 'brexit' en reino unido - elEconomista.es\"]\n"
          ],
          "name": "stdout"
        }
      ]
    },
    {
      "metadata": {
        "id": "PdmHH4Dsf5ZR",
        "colab_type": "text"
      },
      "cell_type": "markdown",
      "source": [
        "## Ask"
      ]
    },
    {
      "metadata": {
        "id": "naFz3Mz85Bq-",
        "colab_type": "code",
        "colab": {
          "base_uri": "https://localhost:8080/",
          "height": 54
        },
        "outputId": "62b5aaec-4900-45e8-f60d-7a117e16bc4d"
      },
      "cell_type": "code",
      "source": [
        "def ask():\n",
        "  page = requests.get(url['ask']).text\n",
        "  soup = BeautifulSoup(page, \"html.parser\")\n",
        "  texto = [' '.join((t.find(class_='news-title').text + t.find(class_='news-summary').text).split()) for t in soup.find_all('div', class_=\"news-content\")]\n",
        "  return texto\n",
        "  \n",
        "print(ask())"
      ],
      "execution_count": 14,
      "outputs": [
        {
          "output_type": "stream",
          "text": [
            "['Day of gains on Spanish Ibex-35 stock exchange MADRID, March 6 (Xinhua) -- The Spanish Ibex-35 stock exchange on Wednesday enjoyed a day of gains after two days of slight losses and although it was... More »', \"Small loss seen on Spanish Ibex-35 stock exchange MADIRD, March 5 (Xinhua) -- The Spanish Ibex-35 stock exchange registered a very small loss on Tuesday's trading. Trading in Madrid closed on... More »\", 'IBEX TECHNOLOGIES : Reports Plans to Close Iowa Production Facility IBEX Technologies Inc. (IBEX or the Company) (TSX Venture: IBT) today reported that it plans to close its Iowa production facility as of July 31,... More »', \"Why did Instagram, YouTube and WhatsApp stop working? 35 minutes ago35 minutes ago Lots of people rely on sites like Instagram, Facebook, WhatsApp, YouTube, or Gmail, to send messages or stay up to date with what's happening, so it... More »\", \"Cheesy Easter egg and other unusual eggs 35 minutes ago35 minutes ago comments Sainsbury's There's a twist on the traditional Easter egg this year with the 'Cheester' egg hitting supermarket shelves. The 'Cheester' egg is an... More »\", \"What could happen next with Brexit? 35 minutes ago35 minutes ago comments1 It's been a busy week for Brexit so far and there's still time for a last minute twist. Prime Minister Theresa May failed to win support for her... More »\", \"Forget the floss, it's all about the triangle dance! 35 minutes ago35 minutes ago To enjoy the CBBC Newsround website at its best you will need to have JavaScript turned on. Forget the floss, it's all about the triangle dance! ... More »\", \"Crispy challenge! Chris Evans causes social media debate 35 minutes ago35 minutes ago comments Reuters Captain America is pretty busy right now trying to save the world and getting ready for the next Avengers film. But he's not too busy to... More »\", '14 Mar 2019 02:35 Lufthansa eyes stable margins, mid single-digit revenue growth in 2019 An advertising board of German air carrier Lufthansa is seen at the airport in Frankfurt, Germany, February 12, 2019. REUTERS/Kai Pfaffenbach ... More »', 'US says airstrike kills 35 (CNN) The US military announced Monday that an airstrike in Somalia killed 35 Al Shabaab fighters on Sunday. That means at least 180 fighters from... More »']\n"
          ],
          "name": "stdout"
        }
      ]
    },
    {
      "metadata": {
        "id": "7t2jVJAff5Zc",
        "colab_type": "text"
      },
      "cell_type": "markdown",
      "source": [
        "## qwant"
      ]
    },
    {
      "metadata": {
        "id": "LBebm5lDf5Zd",
        "colab_type": "code",
        "colab": {
          "base_uri": "https://localhost:8080/",
          "height": 88
        },
        "outputId": "21af35a5-4e20-4bb4-b5d0-a9a162867b39"
      },
      "cell_type": "code",
      "source": [
        "def qwant():\n",
        "  chrome_options = webdriver.ChromeOptions()\n",
        "  chrome_options.add_argument('--headless')\n",
        "  chrome_options.add_argument('--no-sandbox')\n",
        "  chrome_options.add_argument('--disable-dev-shm-usage')\n",
        "  wd = webdriver.Chrome('chromedriver',chrome_options=chrome_options)\n",
        "  wd.get(url['qwant'])\n",
        "  text = [t.text for t in wd.find_elements_by_xpath(\"//div[@class='result-type__news__item']/div[@class='result-type__news__text--container']/a\")]\n",
        "  return text\n",
        " \n",
        "print(qwant())"
      ],
      "execution_count": 24,
      "outputs": [
        {
          "output_type": "stream",
          "text": [
            "/usr/local/lib/python3.6/dist-packages/ipykernel_launcher.py:6: DeprecationWarning: use options instead of chrome_options\n",
            "  \n"
          ],
          "name": "stderr"
        },
        {
          "output_type": "stream",
          "text": [
            "['El Ibex 35 defiende los 9.200 puntos en la media sesión con un ascenso del 0,25%, pendiente...', 'El Ibex 35 ataca resistencias impulsado por la banca, a la espera de la votación para retrasar...', 'El Ibex 35 lucha por los 9.200 puntos pendiente del Brexit', 'Ibex 35: La espera con subidas antes de la decisión del Brexit', 'El Ibex 35 amanece con tímidas subidas del 0,18%', '¿Por qué las compañías del Ibex 35 aumentan su dividendo si nos espera mayor volatilidad y desaceleración...', 'Santander impide que Inditex deje al Ibex 35 en rojo', 'El Ibex 35 se queda a las puertas de los 9.200 puntos con una subida del 0,34%', 'El Ibex-35 se viene abajo', 'IAG, de las que más sube en el Ibex 35 después de una mejora de recomendación de...']\n"
          ],
          "name": "stdout"
        }
      ]
    },
    {
      "metadata": {
        "id": "MeZMWtWff5ZV",
        "colab_type": "text"
      },
      "cell_type": "markdown",
      "source": [
        "## Naver"
      ]
    },
    {
      "metadata": {
        "id": "nLkbLgkKf5ZV",
        "colab_type": "code",
        "colab": {}
      },
      "cell_type": "code",
      "source": [
        "naver = requests.get(url_naver).text\n",
        "soapNaver = BeautifulSoup(naver, \"html.parser\")"
      ],
      "execution_count": 0,
      "outputs": []
    },
    {
      "metadata": {
        "id": "sHtUCN_Jf5ZY",
        "colab_type": "text"
      },
      "cell_type": "markdown",
      "source": [
        "## Yandex"
      ]
    },
    {
      "metadata": {
        "id": "Mu001mo-f5ZZ",
        "colab_type": "code",
        "colab": {}
      },
      "cell_type": "code",
      "source": [
        "yandex = requests.get(url_yandex).text\n",
        "soapYandex = BeautifulSoup(yandex, \"html.parser\")"
      ],
      "execution_count": 0,
      "outputs": []
    },
    {
      "metadata": {
        "id": "58eiPXCpf5Zf",
        "colab_type": "text"
      },
      "cell_type": "markdown",
      "source": [
        "## Baidu"
      ]
    },
    {
      "metadata": {
        "id": "36aXwKT4f5Zg",
        "colab_type": "code",
        "colab": {}
      },
      "cell_type": "code",
      "source": [
        "try:\n",
        "    baidu = requests.get(url_baidu).text\n",
        "except:\n",
        "    print(\"error en baidu\")"
      ],
      "execution_count": 0,
      "outputs": []
    },
    {
      "metadata": {
        "scrolled": true,
        "id": "qKpbOkYyf5Zi",
        "colab_type": "code",
        "colab": {}
      },
      "cell_type": "code",
      "source": [
        "soupBaidu = BeautifulSoup(baidu, \"html.parser\")\n",
        "for text in soupBaidu.find_all('div', class_=\"c-summary\"):\n",
        "    result = text.get_text()\n",
        "    print(result)"
      ],
      "execution_count": 0,
      "outputs": []
    },
    {
      "metadata": {
        "id": "NjCe5isWf5Zk",
        "colab_type": "text"
      },
      "cell_type": "markdown",
      "source": [
        "## Pruebas "
      ]
    },
    {
      "metadata": {
        "id": "YaF8uGdQf5Zl",
        "colab_type": "code",
        "colab": {}
      },
      "cell_type": "code",
      "source": [
        "html_doc = \"\"\"<div class=\"ts Pg8zWb b80nOe C1Iii FddHQd tsUanb\"><a class=\"top NQHJEb dfhHve\" href=\"https://www.lavanguardia.com/economia/20190208/46289945507/ibex-35-dia-bolsa-espana-wall-street.html\" ping=\"/url?sa=t&amp;source=web&amp;rct=j&amp;url=https://www.lavanguardia.com/economia/20190208/46289945507/ibex-35-dia-bolsa-espana-wall-street.html&amp;ved=0ahUKEwjDiJnVgKzgAhUNgHMKHXboAgYQvIgBCCwwAQ\"><img class=\"th BbeB2d\" src=\"https://encrypted-tbn0.gstatic.com/images?q=tbn:ANd9GcSHKOWOvzVV0g2QYIoCHVcEE3gL0KGhYGGiU6MrtTfX-vjlJu9-ra4r3fp-1QoWQmN_rqRonqot\" alt=\"Imagen de la noticia para ibex 35 de La Vanguardia\" onload=\"typeof google==='object'&amp;&amp;google.aft&amp;&amp;google.aft(this)\" data-atf=\"3\"></a><div class=\"gG0TJc\"><h3 class=\"r dO0Ag\"><a class=\"l lLrAF\" href=\"https://www.lavanguardia.com/economia/20190208/46289945507/ibex-35-dia-bolsa-espana-wall-street.html\" ping=\"/url?sa=t&amp;source=web&amp;rct=j&amp;url=https://www.lavanguardia.com/economia/20190208/46289945507/ibex-35-dia-bolsa-espana-wall-street.html&amp;ved=0ahUKEwjDiJnVgKzgAhUNgHMKHXboAgYQqQIILSgAMAE\">El <em>Ibex 35</em> abre en rojo y ve cada vez más difícil los 9.000 puntos</a></h3><div class=\"slp\"><span class=\"xQ82C e8fRJf\">La Vanguardia</span><span class=\"v0c3xd\">-</span><span class=\"f nsa fwzPFf\">Hace 2 horas</span></div></div><div class=\"YiHbdc card-section\"><a class=\"RTNUJf\" href=\"https://okdiario.com/economia/mercados/2019/02/08/ibex-35-hoy-cae-alrededor-03-aferra-8-900-puntos-3680697\" ping=\"/url?sa=t&amp;source=web&amp;rct=j&amp;url=https://okdiario.com/economia/mercados/2019/02/08/ibex-35-hoy-cae-alrededor-03-aferra-8-900-puntos-3680697&amp;ved=0ahUKEwjDiJnVgKzgAhUNgHMKHXboAgYQu4gBCC4oATAB\">El <em>Ibex 35</em> hoy cae alrededor de un 0,3% y se aferra a los 8.900 puntos</a><br><span class=\"nsa xQ82C f e8fRJf\">OKDIARIO</span><span class=\"v0c3xd\">-</span><span class=\"nsa fwzPFf f\">Hace 2 horas</span></div><div class=\"gZQpfd\"></div><div class=\"YiHbdc card-section\"><a class=\"RTNUJf\" href=\"https://www.europapress.es/economia/bolsa-00348/noticia-ibex-35-cae-031-apertura-aferra-8900-enteros-20190208091215.html\" ping=\"/url?sa=t&amp;source=web&amp;rct=j&amp;url=https://www.europapress.es/economia/bolsa-00348/noticia-ibex-35-cae-031-apertura-aferra-8900-enteros-20190208091215.html&amp;ved=0ahUKEwjDiJnVgKzgAhUNgHMKHXboAgYQu4gBCC8oAjAB\">El <em>Ibex 35</em> cae un 0,31% en la apertura y se aferra a los 8.900 enteros</a><br><span class=\"nsa xQ82C f e8fRJf\">Europa Press</span><span class=\"v0c3xd\">-</span><span class=\"nsa fwzPFf f\">Hace 3 horas</span></div><div class=\"gZQpfd\"></div><div class=\"YiHbdc card-section\"><a class=\"RTNUJf\" href=\"https://valenciaplaza.com/duro-castigo-a-un-ibex-35-que-vuelve-a-alejarse-de-los-9000-puntos\" ping=\"/url?sa=t&amp;source=web&amp;rct=j&amp;url=https://valenciaplaza.com/duro-castigo-a-un-ibex-35-que-vuelve-a-alejarse-de-los-9000-puntos&amp;ved=0ahUKEwjDiJnVgKzgAhUNgHMKHXboAgYQu4gBCDAoAzAB\">Duro castigo a un <em>Ibex 35</em> que vuelve a alejarse de los 9.000 puntos</a><br><span class=\"nsa xQ82C f e8fRJf\">valenciaplaza.com</span><span class=\"v0c3xd\">-</span><span class=\"nsa fwzPFf f\">Hace 17 horas</span></div><div class=\"gZQpfd\"></div><div class=\"YiHbdc card-section\"><a class=\"RTNUJf\" href=\"https://www.estrategiasdeinversion.com/actualidad/noticias/bolsa-espana/seis-valores-del-ibex-35-que-reunen-calidad-y-n-417857\" ping=\"/url?sa=t&amp;source=web&amp;rct=j&amp;url=https://www.estrategiasdeinversion.com/actualidad/noticias/bolsa-espana/seis-valores-del-ibex-35-que-reunen-calidad-y-n-417857&amp;ved=0ahUKEwjDiJnVgKzgAhUNgHMKHXboAgYQu4gBCDEoBDAB\">Seis valores del <em>Ibex 35</em> que reúnen calidad y potencial a precios ...</a><br><span class=\"nsa xQ82C f e8fRJf\">Estrategias de Inversión</span><span class=\"v0c3xd\">-</span><span class=\"nsa fwzPFf f\">Hace 5 horas</span></div><div class=\"gZQpfd\"></div><div class=\"ErI7Gd card-section\"><a class=\"RTNUJf\" href=\"http://www.expansion.com/mercados/cronica-bolsa/2019/02/07/5c5bd713ca4741be598b4586.html\" ping=\"/url?sa=t&amp;source=web&amp;rct=j&amp;url=http://www.expansion.com/mercados/cronica-bolsa/2019/02/07/5c5bd713ca4741be598b4586.html&amp;ved=0ahUKEwjDiJnVgKzgAhUNgHMKHXboAgYQuogBCDIoBTAB\">El <em>Ibex 35</em> pierde el 9.000 por las dudas sobre la economía europea</a><br><span class=\"HgetDe DwKiF\">Opinión</span><span class=\"v0c3xd\">-</span><span class=\"xQ82C e8fRJf\">Expansión.com</span><span class=\"v0c3xd\">-</span><span class=\"f nsa fwzPFf\">Hace 18 horas</span><div class=\"cWEW3c\"><a class=\"kl0Osd\" href=\"https://news.google.com/news?ncl=d7Fc1Sx28KNHs8M89HhSUoxVcAN6M&amp;q=ibex+35&amp;lr=Spanish&amp;hl=es&amp;sa=X&amp;ved=0ahUKEwjDiJnVgKzgAhUNgHMKHXboAgYQqgIIMzAB\">Ver todos</a></div></div><div class=\"gZQpfd\"></div></div>\"\"\"\n",
        "soup = BeautifulSoup(html_doc, 'html.parser')"
      ],
      "execution_count": 0,
      "outputs": []
    },
    {
      "metadata": {
        "scrolled": true,
        "id": "r3oxdF0Bf5Zo",
        "colab_type": "code",
        "outputId": "30d7a4bc-e8eb-4fd0-e2ff-09a1c3ab4a14",
        "colab": {}
      },
      "cell_type": "code",
      "source": [
        "print(soup.prettify())"
      ],
      "execution_count": 0,
      "outputs": [
        {
          "output_type": "stream",
          "text": [
            "<div class=\"ts Pg8zWb b80nOe C1Iii FddHQd tsUanb\">\n",
            " <a class=\"top NQHJEb dfhHve\" href=\"https://www.lavanguardia.com/economia/20190208/46289945507/ibex-35-dia-bolsa-espana-wall-street.html\" ping=\"/url?sa=t&amp;source=web&amp;rct=j&amp;url=https://www.lavanguardia.com/economia/20190208/46289945507/ibex-35-dia-bolsa-espana-wall-street.html&amp;ved=0ahUKEwjDiJnVgKzgAhUNgHMKHXboAgYQvIgBCCwwAQ\">\n",
            "  <img alt=\"Imagen de la noticia para ibex 35 de La Vanguardia\" class=\"th BbeB2d\" data-atf=\"3\" onload=\"typeof google==='object'&amp;&amp;google.aft&amp;&amp;google.aft(this)\" src=\"https://encrypted-tbn0.gstatic.com/images?q=tbn:ANd9GcSHKOWOvzVV0g2QYIoCHVcEE3gL0KGhYGGiU6MrtTfX-vjlJu9-ra4r3fp-1QoWQmN_rqRonqot\"/>\n",
            " </a>\n",
            " <div class=\"gG0TJc\">\n",
            "  <h3 class=\"r dO0Ag\">\n",
            "   <a class=\"l lLrAF\" href=\"https://www.lavanguardia.com/economia/20190208/46289945507/ibex-35-dia-bolsa-espana-wall-street.html\" ping=\"/url?sa=t&amp;source=web&amp;rct=j&amp;url=https://www.lavanguardia.com/economia/20190208/46289945507/ibex-35-dia-bolsa-espana-wall-street.html&amp;ved=0ahUKEwjDiJnVgKzgAhUNgHMKHXboAgYQqQIILSgAMAE\">\n",
            "    El\n",
            "    <em>\n",
            "     Ibex 35\n",
            "    </em>\n",
            "    abre en rojo y ve cada vez más difícil los 9.000 puntos\n",
            "   </a>\n",
            "  </h3>\n",
            "  <div class=\"slp\">\n",
            "   <span class=\"xQ82C e8fRJf\">\n",
            "    La Vanguardia\n",
            "   </span>\n",
            "   <span class=\"v0c3xd\">\n",
            "    -\n",
            "   </span>\n",
            "   <span class=\"f nsa fwzPFf\">\n",
            "    Hace 2 horas\n",
            "   </span>\n",
            "  </div>\n",
            " </div>\n",
            " <div class=\"YiHbdc card-section\">\n",
            "  <a class=\"RTNUJf\" href=\"https://okdiario.com/economia/mercados/2019/02/08/ibex-35-hoy-cae-alrededor-03-aferra-8-900-puntos-3680697\" ping=\"/url?sa=t&amp;source=web&amp;rct=j&amp;url=https://okdiario.com/economia/mercados/2019/02/08/ibex-35-hoy-cae-alrededor-03-aferra-8-900-puntos-3680697&amp;ved=0ahUKEwjDiJnVgKzgAhUNgHMKHXboAgYQu4gBCC4oATAB\">\n",
            "   El\n",
            "   <em>\n",
            "    Ibex 35\n",
            "   </em>\n",
            "   hoy cae alrededor de un 0,3% y se aferra a los 8.900 puntos\n",
            "  </a>\n",
            "  <br/>\n",
            "  <span class=\"nsa xQ82C f e8fRJf\">\n",
            "   OKDIARIO\n",
            "  </span>\n",
            "  <span class=\"v0c3xd\">\n",
            "   -\n",
            "  </span>\n",
            "  <span class=\"nsa fwzPFf f\">\n",
            "   Hace 2 horas\n",
            "  </span>\n",
            " </div>\n",
            " <div class=\"gZQpfd\">\n",
            " </div>\n",
            " <div class=\"YiHbdc card-section\">\n",
            "  <a class=\"RTNUJf\" href=\"https://www.europapress.es/economia/bolsa-00348/noticia-ibex-35-cae-031-apertura-aferra-8900-enteros-20190208091215.html\" ping=\"/url?sa=t&amp;source=web&amp;rct=j&amp;url=https://www.europapress.es/economia/bolsa-00348/noticia-ibex-35-cae-031-apertura-aferra-8900-enteros-20190208091215.html&amp;ved=0ahUKEwjDiJnVgKzgAhUNgHMKHXboAgYQu4gBCC8oAjAB\">\n",
            "   El\n",
            "   <em>\n",
            "    Ibex 35\n",
            "   </em>\n",
            "   cae un 0,31% en la apertura y se aferra a los 8.900 enteros\n",
            "  </a>\n",
            "  <br/>\n",
            "  <span class=\"nsa xQ82C f e8fRJf\">\n",
            "   Europa Press\n",
            "  </span>\n",
            "  <span class=\"v0c3xd\">\n",
            "   -\n",
            "  </span>\n",
            "  <span class=\"nsa fwzPFf f\">\n",
            "   Hace 3 horas\n",
            "  </span>\n",
            " </div>\n",
            " <div class=\"gZQpfd\">\n",
            " </div>\n",
            " <div class=\"YiHbdc card-section\">\n",
            "  <a class=\"RTNUJf\" href=\"https://valenciaplaza.com/duro-castigo-a-un-ibex-35-que-vuelve-a-alejarse-de-los-9000-puntos\" ping=\"/url?sa=t&amp;source=web&amp;rct=j&amp;url=https://valenciaplaza.com/duro-castigo-a-un-ibex-35-que-vuelve-a-alejarse-de-los-9000-puntos&amp;ved=0ahUKEwjDiJnVgKzgAhUNgHMKHXboAgYQu4gBCDAoAzAB\">\n",
            "   Duro castigo a un\n",
            "   <em>\n",
            "    Ibex 35\n",
            "   </em>\n",
            "   que vuelve a alejarse de los 9.000 puntos\n",
            "  </a>\n",
            "  <br/>\n",
            "  <span class=\"nsa xQ82C f e8fRJf\">\n",
            "   valenciaplaza.com\n",
            "  </span>\n",
            "  <span class=\"v0c3xd\">\n",
            "   -\n",
            "  </span>\n",
            "  <span class=\"nsa fwzPFf f\">\n",
            "   Hace 17 horas\n",
            "  </span>\n",
            " </div>\n",
            " <div class=\"gZQpfd\">\n",
            " </div>\n",
            " <div class=\"YiHbdc card-section\">\n",
            "  <a class=\"RTNUJf\" href=\"https://www.estrategiasdeinversion.com/actualidad/noticias/bolsa-espana/seis-valores-del-ibex-35-que-reunen-calidad-y-n-417857\" ping=\"/url?sa=t&amp;source=web&amp;rct=j&amp;url=https://www.estrategiasdeinversion.com/actualidad/noticias/bolsa-espana/seis-valores-del-ibex-35-que-reunen-calidad-y-n-417857&amp;ved=0ahUKEwjDiJnVgKzgAhUNgHMKHXboAgYQu4gBCDEoBDAB\">\n",
            "   Seis valores del\n",
            "   <em>\n",
            "    Ibex 35\n",
            "   </em>\n",
            "   que reúnen calidad y potencial a precios ...\n",
            "  </a>\n",
            "  <br/>\n",
            "  <span class=\"nsa xQ82C f e8fRJf\">\n",
            "   Estrategias de Inversión\n",
            "  </span>\n",
            "  <span class=\"v0c3xd\">\n",
            "   -\n",
            "  </span>\n",
            "  <span class=\"nsa fwzPFf f\">\n",
            "   Hace 5 horas\n",
            "  </span>\n",
            " </div>\n",
            " <div class=\"gZQpfd\">\n",
            " </div>\n",
            " <div class=\"ErI7Gd card-section\">\n",
            "  <a class=\"RTNUJf\" href=\"http://www.expansion.com/mercados/cronica-bolsa/2019/02/07/5c5bd713ca4741be598b4586.html\" ping=\"/url?sa=t&amp;source=web&amp;rct=j&amp;url=http://www.expansion.com/mercados/cronica-bolsa/2019/02/07/5c5bd713ca4741be598b4586.html&amp;ved=0ahUKEwjDiJnVgKzgAhUNgHMKHXboAgYQuogBCDIoBTAB\">\n",
            "   El\n",
            "   <em>\n",
            "    Ibex 35\n",
            "   </em>\n",
            "   pierde el 9.000 por las dudas sobre la economía europea\n",
            "  </a>\n",
            "  <br/>\n",
            "  <span class=\"HgetDe DwKiF\">\n",
            "   Opinión\n",
            "  </span>\n",
            "  <span class=\"v0c3xd\">\n",
            "   -\n",
            "  </span>\n",
            "  <span class=\"xQ82C e8fRJf\">\n",
            "   Expansión.com\n",
            "  </span>\n",
            "  <span class=\"v0c3xd\">\n",
            "   -\n",
            "  </span>\n",
            "  <span class=\"f nsa fwzPFf\">\n",
            "   Hace 18 horas\n",
            "  </span>\n",
            "  <div class=\"cWEW3c\">\n",
            "   <a class=\"kl0Osd\" href=\"https://news.google.com/news?ncl=d7Fc1Sx28KNHs8M89HhSUoxVcAN6M&amp;q=ibex+35&amp;lr=Spanish&amp;hl=es&amp;sa=X&amp;ved=0ahUKEwjDiJnVgKzgAhUNgHMKHXboAgYQqgIIMzAB\">\n",
            "    Ver todos\n",
            "   </a>\n",
            "  </div>\n",
            " </div>\n",
            " <div class=\"gZQpfd\">\n",
            " </div>\n",
            "</div>\n"
          ],
          "name": "stdout"
        }
      ]
    },
    {
      "metadata": {
        "id": "Sh747-dmf5Zs",
        "colab_type": "code",
        "outputId": "7ec7a484-f344-438e-b0ce-3e7faf169074",
        "colab": {}
      },
      "cell_type": "code",
      "source": [
        "result=\"\"\n",
        "for text in soup.find_all('a', 'RTNUJf'):\n",
        "    result = result + \" \" + text.get_text()  \n",
        "print(result)\n",
        "tokens = [t for t in result.split()]\n",
        "print (tokens)"
      ],
      "execution_count": 0,
      "outputs": [
        {
          "output_type": "stream",
          "text": [
            " El Ibex 35 hoy cae alrededor de un 0,3% y se aferra a los 8.900 puntos El Ibex 35 cae un 0,31% en la apertura y se aferra a los 8.900 enteros Duro castigo a un Ibex 35 que vuelve a alejarse de los 9.000 puntos Seis valores del Ibex 35 que reúnen calidad y potencial a precios ... El Ibex 35 pierde el 9.000 por las dudas sobre la economía europea\n",
            "['El', 'Ibex', '35', 'hoy', 'cae', 'alrededor', 'de', 'un', '0,3%', 'y', 'se', 'aferra', 'a', 'los', '8.900', 'puntos', 'El', 'Ibex', '35', 'cae', 'un', '0,31%', 'en', 'la', 'apertura', 'y', 'se', 'aferra', 'a', 'los', '8.900', 'enteros', 'Duro', 'castigo', 'a', 'un', 'Ibex', '35', 'que', 'vuelve', 'a', 'alejarse', 'de', 'los', '9.000', 'puntos', 'Seis', 'valores', 'del', 'Ibex', '35', 'que', 'reúnen', 'calidad', 'y', 'potencial', 'a', 'precios', '...', 'El', 'Ibex', '35', 'pierde', 'el', '9.000', 'por', 'las', 'dudas', 'sobre', 'la', 'economía', 'europea']\n"
          ],
          "name": "stdout"
        }
      ]
    },
    {
      "metadata": {
        "id": "wL9Tzzwxf5Zu",
        "colab_type": "code",
        "outputId": "f381e3aa-c468-4fd3-8b02-c59bc913eb07",
        "colab": {}
      },
      "cell_type": "code",
      "source": [
        "clean_tokens = [word for word in tokens if word.lower() not in stopwords.words('spanish')]\n",
        "print(clean_tokens)"
      ],
      "execution_count": 0,
      "outputs": [
        {
          "output_type": "stream",
          "text": [
            "['Ibex', '35', 'hoy', 'cae', 'alrededor', '0,3%', 'aferra', '8.900', 'puntos', 'Ibex', '35', 'cae', '0,31%', 'apertura', 'aferra', '8.900', 'enteros', 'Duro', 'castigo', 'Ibex', '35', 'vuelve', 'alejarse', '9.000', 'puntos', 'Seis', 'valores', 'Ibex', '35', 'reúnen', 'calidad', 'potencial', 'precios', '...', 'Ibex', '35', 'pierde', '9.000', 'dudas', 'economía', 'europea']\n"
          ],
          "name": "stdout"
        }
      ]
    },
    {
      "metadata": {
        "id": "DiOTpz2zf5Zx",
        "colab_type": "code",
        "colab": {}
      },
      "cell_type": "code",
      "source": [
        "import nltk\n",
        "from matplotlib import pyplot as plt\n",
        "%matplotlib inline\n",
        "plt.style.use('ggplot')"
      ],
      "execution_count": 0,
      "outputs": []
    },
    {
      "metadata": {
        "id": "M0pUMrg2f5Z0",
        "colab_type": "code",
        "outputId": "9c5d4f5c-ac42-4bf1-c7d2-476e72b1dfdc",
        "colab": {}
      },
      "cell_type": "code",
      "source": [
        "freq = nltk.FreqDist(clean_tokens)\n",
        " \n",
        "for key,val in freq.items():\n",
        " \n",
        "    print (str(key) + ':' + str(val))"
      ],
      "execution_count": 0,
      "outputs": [
        {
          "output_type": "stream",
          "text": [
            "Ibex:5\n",
            "35:5\n",
            "hoy:1\n",
            "cae:2\n",
            "alrededor:1\n",
            "0,3%:1\n",
            "aferra:2\n",
            "8.900:2\n",
            "puntos:2\n",
            "0,31%:1\n",
            "apertura:1\n",
            "enteros:1\n",
            "Duro:1\n",
            "castigo:1\n",
            "vuelve:1\n",
            "alejarse:1\n",
            "9.000:2\n",
            "Seis:1\n",
            "valores:1\n",
            "reúnen:1\n",
            "calidad:1\n",
            "potencial:1\n",
            "precios:1\n",
            "...:1\n",
            "pierde:1\n",
            "dudas:1\n",
            "economía:1\n",
            "europea:1\n"
          ],
          "name": "stdout"
        }
      ]
    },
    {
      "metadata": {
        "id": "--1KMFN3f5Z3",
        "colab_type": "code",
        "outputId": "3a80945a-5f8c-4240-f7eb-7e10b3db1fa2",
        "colab": {}
      },
      "cell_type": "code",
      "source": [
        "from nltk.corpus import stopwords\n",
        "nltk.download('stopwords')"
      ],
      "execution_count": 0,
      "outputs": [
        {
          "output_type": "stream",
          "text": [
            "[nltk_data] Downloading package stopwords to\n",
            "[nltk_data]     C:\\Users\\46856585\\AppData\\Roaming\\nltk_data...\n",
            "[nltk_data]   Unzipping corpora\\stopwords.zip.\n"
          ],
          "name": "stderr"
        },
        {
          "output_type": "execute_result",
          "data": {
            "text/plain": [
              "True"
            ]
          },
          "metadata": {
            "tags": []
          },
          "execution_count": 47
        }
      ]
    },
    {
      "metadata": {
        "id": "IjY_jRFa5jqT",
        "colab_type": "code",
        "colab": {}
      },
      "cell_type": "code",
      "source": [
        "import sys\n",
        "sys.path.insert(0,'/usr/lib/chromium-browser/chromedriver')"
      ],
      "execution_count": 0,
      "outputs": []
    },
    {
      "metadata": {
        "scrolled": true,
        "id": "YtHcQSVMf5aA",
        "colab_type": "code",
        "outputId": "2091f75e-9759-40c2-dcdf-61211a4105b3",
        "colab": {}
      },
      "cell_type": "code",
      "source": [
        "for a in soup.select('a'):\n",
        "    print(a.text)"
      ],
      "execution_count": 0,
      "outputs": [
        {
          "output_type": "stream",
          "text": [
            "\n",
            "El Ibex 35 abre en rojo y ve cada vez más difícil los 9.000 puntos\n",
            "El Ibex 35 hoy cae alrededor de un 0,3% y se aferra a los 8.900 puntos\n",
            "El Ibex 35 cae un 0,31% en la apertura y se aferra a los 8.900 enteros\n",
            "Duro castigo a un Ibex 35 que vuelve a alejarse de los 9.000 puntos\n",
            "Seis valores del Ibex 35 que reúnen calidad y potencial a precios ...\n",
            "El Ibex 35 pierde el 9.000 por las dudas sobre la economía europea\n",
            "Ver todos\n"
          ],
          "name": "stdout"
        }
      ]
    },
    {
      "metadata": {
        "scrolled": false,
        "id": "J8FbFNB0f5Z6",
        "colab_type": "code",
        "outputId": "5371d90d-24c3-4616-8611-8c0361b77749",
        "colab": {}
      },
      "cell_type": "code",
      "source": [
        "plt.figure(figsize=(14,8))\n",
        "freq.plot(20, cumulative=False)"
      ],
      "execution_count": 0,
      "outputs": [
        {
          "output_type": "display_data",
          "data": {
            "image/png": "[encoded data removed]",
            "text/plain": [
              "<Figure size 1008x576 with 1 Axes>"
            ]
          },
          "metadata": {
            "tags": []
          }
        }
      ]
    },
    {
      "metadata": {
        "scrolled": true,
        "id": "UMoT6STaf5Z8",
        "colab_type": "code",
        "outputId": "6deaabc0-b78f-407e-f42f-daa4bef739e2",
        "colab": {
          "base_uri": "https://localhost:8080/",
          "height": 68
        }
      },
      "cell_type": "code",
      "source": [
        "import datetime\n",
        "print(type(datetime.datetime.now()))\n",
        "\n",
        "print(datetime.date.today())\n",
        "print(datetime.datetime.now().strftime(\"%Y-%m-%d %H:%M\"))"
      ],
      "execution_count": 9,
      "outputs": [
        {
          "output_type": "stream",
          "text": [
            "<class 'datetime.datetime'>\n",
            "2019-03-12\n",
            "2019-03-12 11:28\n"
          ],
          "name": "stdout"
        }
      ]
    },
    {
      "metadata": {
        "id": "Eo43VrtWsEjD",
        "colab_type": "code",
        "colab": {
          "base_uri": "https://localhost:8080/",
          "height": 102
        },
        "outputId": "e4d7f232-f6a4-43f2-8271-4f45eb589714"
      },
      "cell_type": "code",
      "source": [
        "import pandas as pd\n",
        "\n",
        "print(pd.to_datetime('today'))\n",
        "print(type(pd.to_datetime('today')))\n",
        "print(pd.to_datetime('now'))\n",
        "print(pd.Timestamp(\"today\"))\n",
        "print(type(pd.Timestamp(\"today\")))"
      ],
      "execution_count": 15,
      "outputs": [
        {
          "output_type": "stream",
          "text": [
            "2019-03-12 00:00:00\n",
            "<class 'pandas._libs.tslib.Timestamp'>\n",
            "2019-03-12 11:41:15\n",
            "2019-03-12 11:41:15.842078\n",
            "<class 'pandas._libs.tslib.Timestamp'>\n"
          ],
          "name": "stdout"
        }
      ]
    }
  ]
}