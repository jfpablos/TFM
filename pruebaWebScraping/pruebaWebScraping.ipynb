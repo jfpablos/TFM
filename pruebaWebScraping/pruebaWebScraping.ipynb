{
  "nbformat": 4,
  "nbformat_minor": 0,
  "metadata": {
    "colab": {
      "name": "pruebaWebScraping.ipynb",
      "version": "0.3.2",
      "provenance": [],
      "toc_visible": true,
      "include_colab_link": true
    },
    "kernelspec": {
      "display_name": "Python 3",
      "language": "python",
      "name": "python3"
    }
  },
  "cells": [
    {
      "cell_type": "markdown",
      "metadata": {
        "id": "view-in-github",
        "colab_type": "text"
      },
      "source": [
        "<a href=\"https://colab.research.google.com/github/jfpablos/TFM/blob/master/pruebaWebScraping/pruebaWebScraping.ipynb\" target=\"_parent\"><img src=\"https://colab.research.google.com/assets/colab-badge.svg\" alt=\"Open In Colab\"/></a>"
      ]
    },
    {
      "metadata": {
        "id": "lvpn8S9d3i1i",
        "colab_type": "text"
      },
      "cell_type": "markdown",
      "source": [
        "## ENTORNO"
      ]
    },
    {
      "metadata": {
        "id": "dA2FoyJFf5YM",
        "colab_type": "code",
        "colab": {}
      },
      "cell_type": "code",
      "source": [
        "from __future__ import print_function\n",
        "import pandas as pd\n",
        "pd.set_option('max_colwidth',30)\n",
        "import requests\n",
        "from bs4 import BeautifulSoup\n",
        "import re"
      ],
      "execution_count": 0,
      "outputs": []
    },
    {
      "metadata": {
        "id": "YoCQQQ6Td3ZH",
        "colab_type": "code",
        "colab": {
          "base_uri": "https://localhost:8080/",
          "height": 153
        },
        "outputId": "dc3f0049-66f5-4b01-ef84-bf50ba382bd8"
      },
      "cell_type": "code",
      "source": [
        "!pip install fake-useragent\n",
        "from fake_useragent import UserAgent"
      ],
      "execution_count": 56,
      "outputs": [
        {
          "output_type": "stream",
          "text": [
            "Collecting fake-useragent\n",
            "  Downloading https://files.pythonhosted.org/packages/d1/79/af647635d6968e2deb57a208d309f6069d31cb138066d7e821e575112a80/fake-useragent-0.1.11.tar.gz\n",
            "Building wheels for collected packages: fake-useragent\n",
            "  Building wheel for fake-useragent (setup.py) ... \u001b[?25ldone\n",
            "\u001b[?25h  Stored in directory: /root/.cache/pip/wheels/5e/63/09/d1dc15179f175357d3f5c00cbffbac37f9e8690d80545143ff\n",
            "Successfully built fake-useragent\n",
            "Installing collected packages: fake-useragent\n",
            "Successfully installed fake-useragent-0.1.11\n"
          ],
          "name": "stdout"
        }
      ]
    },
    {
      "metadata": {
        "id": "noL3aW5BS4FP",
        "colab_type": "code",
        "outputId": "9729936b-7820-403a-f08c-6892a12b8c07",
        "colab": {
          "base_uri": "https://localhost:8080/",
          "height": 425
        }
      },
      "cell_type": "code",
      "source": [
        "!apt-get update\n",
        "!apt install chromium-chromedriver\n",
        "!pip install selenium\n",
        "!cp /usr/lib/chromium-browser/chromedriver /usr/bin\n",
        "import sys\n",
        "sys.path.insert(0,'/usr/lib/chromium-browser/chromedriver')\n",
        "from selenium import webdriver\n",
        "from selenium.webdriver.common.keys import Keys"
      ],
      "execution_count": 42,
      "outputs": [
        {
          "output_type": "stream",
          "text": [
            "\r0% [Working]\r            \rIgn:1 https://developer.download.nvidia.com/compute/cuda/repos/ubuntu1804/x86_64  InRelease\n",
            "\r0% [Waiting for headers] [Waiting for headers] [Connected to cloud.r-project.or\r                                                                               \rHit:2 https://cloud.r-project.org/bin/linux/ubuntu bionic-cran35/ InRelease\n",
            "\r0% [Waiting for headers] [Waiting for headers] [Waiting for headers] [Waiting f\r0% [2 InRelease gpgv 3,609 B] [Waiting for headers] [Waiting for headers] [Wait\r                                                                               \rHit:3 http://ppa.launchpad.net/graphics-drivers/ppa/ubuntu bionic InRelease\n",
            "\r0% [2 InRelease gpgv 3,609 B] [Waiting for headers] [Waiting for headers] [Wait\r                                                                               \rHit:4 http://archive.ubuntu.com/ubuntu bionic InRelease\n",
            "\r0% [2 InRelease gpgv 3,609 B] [Waiting for headers] [Waiting for headers] [Wait\r                                                                               \rGet:5 http://security.ubuntu.com/ubuntu bionic-security InRelease [88.7 kB]\n",
            "\r0% [2 InRelease gpgv 3,609 B] [Waiting for headers] [5 InRelease 2,587 B/88.7 k\r                                                                               \rIgn:6 https://developer.download.nvidia.com/compute/machine-learning/repos/ubuntu1804/x86_64  InRelease\n",
            "\r0% [2 InRelease gpgv 3,609 B] [Waiting for headers] [5 InRelease 11.3 kB/88.7 k\r                                                                               \rHit:7 https://developer.download.nvidia.com/compute/cuda/repos/ubuntu1804/x86_64  Release\n",
            "\r0% [2 InRelease gpgv 3,609 B] [Waiting for headers] [5 InRelease 14.2 kB/88.7 k\r                                                                               \rHit:8 https://developer.download.nvidia.com/compute/machine-learning/repos/ubuntu1804/x86_64  Release\n",
            "\r0% [2 InRelease gpgv 3,609 B] [Waiting for headers] [5 InRelease 14.2 kB/88.7 k\r                                                                               \rGet:9 http://archive.ubuntu.com/ubuntu bionic-updates InRelease [88.7 kB]\n",
            "\r0% [2 InRelease gpgv 3,609 B] [9 InRelease 2,604 B/88.7 kB 3%] [5 InRelease 14.\r                                                                               \rHit:10 http://ppa.launchpad.net/marutter/c2d4u3.5/ubuntu bionic InRelease\n",
            "\r0% [2 InRelease gpgv 3,609 B] [9 InRelease 15.6 kB/88.7 kB 18%] [5 InRelease 43\r                                                                               \r0% [9 InRelease 43.1 kB/88.7 kB 49%] [5 InRelease 69.2 kB/88.7 kB 78%]\r0% [3 InRelease gpgv 21.3 kB] [9 InRelease 43.1 kB/88.7 kB 49%] [5 InRelease 69\r                                                                               \r0% [3 InRelease gpgv 21.3 kB] [9 InRelease 47.5 kB/88.7 kB 54%]\r                                                               \r0% [3 InRelease gpgv 21.3 kB] [Waiting for headers]\r                                                   \rGet:11 http://archive.ubuntu.com/ubuntu bionic-backports InRelease [74.6 kB]\n",
            "\r0% [3 InRelease gpgv 21.3 kB] [11 InRelease 2,604 B/74.6 kB 3%]\r                                                               \r0% [11 InRelease 73.6 kB/74.6 kB 99%]\r0% [4 InRelease gpgv 242 kB] [11 InRelease 73.6 kB/74.6 kB 99%]\r                                                               \r0% [4 InRelease gpgv 242 kB]\r                            \r0% [Working]\r0% [Release.gpg gpgv 564 B]\r                           \r0% [Working]\r0% [Release.gpg gpgv 564 B]\r                           \r0% [Working]\r0% [10 InRelease gpgv 15.4 kB]\r                              \r0% [Working]\r0% [5 InRelease gpgv 88.7 kB]\r                             \r0% [Working]\r0% [9 InRelease gpgv 88.7 kB]\r                             \r0% [Working]\r0% [11 InRelease gpgv 74.6 kB]\r                              \r100% [Working]\r              \rFetched 252 kB in 2s (112 kB/s)\n",
            "Reading package lists... Done\n",
            "Reading package lists... Done\n",
            "Building dependency tree       \n",
            "Reading state information... Done\n",
            "chromium-chromedriver is already the newest version (73.0.3683.75-0ubuntu0.18.04.1).\n",
            "The following package was automatically installed and is no longer required:\n",
            "  libnvidia-common-410\n",
            "Use 'apt autoremove' to remove it.\n",
            "0 upgraded, 0 newly installed, 0 to remove and 10 not upgraded.\n",
            "Requirement already satisfied: selenium in /usr/local/lib/python3.6/dist-packages (3.141.0)\n",
            "Requirement already satisfied: urllib3 in /usr/local/lib/python3.6/dist-packages (from selenium) (1.22)\n",
            "cp: '/usr/lib/chromium-browser/chromedriver' and '/usr/bin/chromedriver' are the same file\n"
          ],
          "name": "stdout"
        }
      ]
    },
    {
      "metadata": {
        "id": "4urmOicp1hDY",
        "colab_type": "code",
        "outputId": "20469970-bab9-401a-8055-a891a1483893",
        "colab": {
          "base_uri": "https://localhost:8080/",
          "height": 68
        }
      },
      "cell_type": "code",
      "source": [
        "chrome_options = webdriver.ChromeOptions()\n",
        "chrome_options.add_argument('--headless')\n",
        "chrome_options.add_argument('--no-sandbox')\n",
        "chrome_options.add_argument('--disable-dev-shm-usage')\n",
        "ua = UserAgent()\n",
        "userAgent = ua.random\n",
        "print(userAgent)\n",
        "chrome_options.add_argument(f'user-agent={userAgent}')\n",
        "wd = webdriver.Chrome('chromedriver',chrome_options=chrome_options)"
      ],
      "execution_count": 57,
      "outputs": [
        {
          "output_type": "stream",
          "text": [
            "Mozilla/5.0 (X11; OpenBSD i386) AppleWebKit/537.36 (KHTML, like Gecko) Chrome/36.0.1985.125 Safari/537.36\n"
          ],
          "name": "stdout"
        },
        {
          "output_type": "stream",
          "text": [
            "/usr/local/lib/python3.6/dist-packages/ipykernel_launcher.py:9: DeprecationWarning: use options instead of chrome_options\n",
            "  if __name__ == '__main__':\n"
          ],
          "name": "stderr"
        }
      ]
    },
    {
      "metadata": {
        "id": "rV_aXH8cf5YS",
        "colab_type": "text"
      },
      "cell_type": "markdown",
      "source": [
        "## URLs"
      ]
    },
    {
      "metadata": {
        "id": "03eEhVK9f5YT",
        "colab_type": "code",
        "colab": {}
      },
      "cell_type": "code",
      "source": [
        "url = {\n",
        "    'google': 'https://www.google.com/search?q=ibex+35&lr=&cr=countryES&hl=es&tbs=ctr:countryES&source=lnms&tbm=nws',\n",
        "    'bing': 'https://www.bing.com/news/search?q=ibex+35&cc=es',\n",
        "    'yahoo': 'https://es.news.search.yahoo.com/search?p=ibex+35',\n",
        "    'duck': 'https://duckduckgo.com/?q=ibex+35&t=h_&iar=news&ia=news&kl=es-es&df=d',\n",
        "    'ask': 'https://www.search.ask.com/search?ctype=news&q=ibex+35',\n",
        "    'naver': 'https://search.naver.com/search.naver?where=news&query=ibex+35',\n",
        "    'baidu': 'https://www.baidu.com/s?wd=ibex+35&tn=news&rtt=1',\n",
        "    'yandex': 'https://news.yandex.com/yandsearch?rpt=nnews2&grhow=clutop&text=ibex%2035',\n",
        "    'qwant' : 'https://www.qwant.com/?q=ibex+35&t=news&r=ES',\n",
        "    'ibex': 'http://www.bolsamadrid.es/esp/aspx/Indices/Resumen.aspx'\n",
        "}\n",
        "\n",
        "#https://www.bing.com/news/search?q=ibex+35&cc=IT para cambiar de pais se cambia el parametro cc= , pj: cc=IT Italia, cc=ES España, cc=DE Alemania \n",
        "#https://www.qwant.com/?q=ibex+35&t=news&r=ES\n",
        "#https://www.google.com/search?q=ibex+35&lr=&cr=countryDE&hl=es&tbs=ctr:countryDE&tbm=nws  countryDE cambiar este parametro para cambiar de pais p.j para cambiar a Francia countryFR tambien cambiar parametro hl=fr"
      ],
      "execution_count": 0,
      "outputs": []
    },
    {
      "metadata": {
        "id": "mmV15Iwdf5YW",
        "colab_type": "text"
      },
      "cell_type": "markdown",
      "source": [
        "## Google"
      ]
    },
    {
      "metadata": {
        "id": "8YEwW7uvR9th",
        "colab_type": "code",
        "outputId": "d2568423-9131-4f3f-a6b4-259acbd0b8e7",
        "colab": {
          "base_uri": "https://localhost:8080/",
          "height": 54
        }
      },
      "cell_type": "code",
      "source": [
        "def google():\n",
        "  try:\n",
        "    page = requests.get(url['google']).text\n",
        "  except:\n",
        "    print('hay problemas')  \n",
        "  soup = BeautifulSoup(page, \"html.parser\")\n",
        "  text = [t.find('h3').text + '. ' + t.find(class_=\"st\").text for t in soup.find_all(\"div\", {\"class\" :\"g\"})]\n",
        "  text = ' '.join(text)\n",
        "  return text\n",
        "print(google())"
      ],
      "execution_count": 0,
      "outputs": [
        {
          "output_type": "stream",
          "text": [
            "El Ibex 35 se anima a media sesión, a la espera de la nueva ....El Ibex 35 se animaba a media sesión con una subida del 0,63%, lo que ha llevado al selectivo a consolidar la cota psicológica de los 9.200 ... El Ibex 35 hoy a mediodía sube un 0,7% impulsado por la banca y ....A mediodía, el principal selectivo del mercado español ganaba 57,10 puntos, el 0,62%, hasta los 9.231,80 enteros, con lo que desde el inicio ... ¿A quién votará el Ibex-35 el 28 de abril?.Pedro Sánchez, Pablo Casado, Albert Rivera, Pablo Iglesias o Santiago Abascal. ¿Qué candidato es el preferido del mercado para ganar las ... El Ibex-35 vuelve a las andadas y recorta con la presión de ....Sesión de altibajos en el selectivo español. Y el desenlace fue negativo. Al cierre daba un último cambio en los 9.174,7 puntos, lo que supone ... El Ibex 35 se da la vuelta a media sesión y se aleja de los 9.200 ....El Ibex 35 retrocedía un 0,14% en la media sesión de este miércoles, situándose en los 9.170,6 puntos en torno a las 12.00 horas, pendiente ... IBEX 35: ¿a por los 9.800 puntos?.A la vista del gráfico semanal del Ibex, podemos ver cómo la pauta que se está desarrollando es la misma que la que dio forma a lo largo de ... Las bolsas europeas cotizan con debilidad: el Ibex 35 se mueve por ....También el Ibex 35 se mantiene por encima de su primer soporte que encuentra en los 9.100 puntos, según los analistas técnicos de ... El Ibex 35 abre con cautela, a la espera de novedades sobre el Brexit.El Ibex 35 ha iniciado la sesión de este martes con una cautelosa subida del 0,13%, lo que ha llevado al selectivo a situarse en los 9.191,4 ... Los futuros mantienen las subidas del Ibex 35.Los futuros del Ibex 35 vuelven a subir en la sesión de hoy, después de que ayer el selectivo español se desmarcarse del resto de Europa al ... El Ibex 35 no termina de confirmar un cambio de tendencia.Descensos del 0,60% en el Ibex 35 que vuelve a cerrar en las inmediaciones del soporte que presenta entre los 9.100 y los 9.150 puntos.\n"
          ],
          "name": "stdout"
        }
      ]
    },
    {
      "metadata": {
        "id": "EtiFn933f5Y2",
        "colab_type": "text"
      },
      "cell_type": "markdown",
      "source": [
        "## Bing "
      ]
    },
    {
      "metadata": {
        "id": "vwNJ0oH0fW97",
        "colab_type": "code",
        "outputId": "918e85e6-0a62-453e-a58f-f86a04a89456",
        "colab": {
          "base_uri": "https://localhost:8080/",
          "height": 54
        }
      },
      "cell_type": "code",
      "source": [
        "def bing():\n",
        "  page = requests.get(url['bing']).text\n",
        "  soup = BeautifulSoup(page, \"html.parser\")\n",
        "  text = [t.find(class_='title').text + '. ' + t.find(class_='snippet').text for t in soup.find_all('div', class_='t_s')]\n",
        "  text = ' '.join(text)\n",
        "  return text\n",
        "print(bing())"
      ],
      "execution_count": 0,
      "outputs": [
        {
          "output_type": "stream",
          "text": [
            "El Ibex 35 coge carrerilla a media sesión y se afianza por encima de los 9.200 puntos. MADRID (EP). El Ibex 35 se animaba a media sesión con una subida del 0,63%, lo que ha llevado al selectivo a consolidar la cota psicológica de los 9.200 puntos que perdía ayer al cierre, en una ... El Ibex 35 intenta cerrar la semana por encima delos 9.200 puntos. El Ibex 35 abre la sesión en positivo, recuperando los 9.200 puntos que perdió en la jornada de ayer. Dentro del selectivo, Arcelormittal encabeza las pérdidas, mientras que Aena sufre llas ... Economía/Bolsa.- El Ibex 35 se anima a media sesión y consolida los 9.200 puntos. El Ibex 35 se animaba a media sesión con una subida del 0,63%, lo que ha llevado al selectivo a consolidar la cota psicológica de los 9.200 puntos que perdía ayer al cierre, en una jornada marcada de ... El Ibex 35 avanza un 0,6% al comienzo del viernes. El Ibex 35 ha avanzado un 0,6% al comienzo del viernes. La Bolsa de Madrid abría la última sesión de la semana con su selectivo en las 9.229,7 unidades, la prima de riesgo en los 116 puntos básicos, y ... El Ibex 35 se anima a media sesión, a la espera de la nueva votación del Brexit. El Ibex 35 se animaba a media sesión con una subida del 0,63%, lo que ha llevado al selectivo a consolidar la cota psicológica de los 9.200 puntos que perdía ayer al cierre, en una jornada marcada de ... El Ibex-35 vuelve a las pérdidas con la presión de telefónica y la banca. Al cierre daba un último cambio en los 9.174,7 puntos, lo que supone un recorte del 0,6% Sesión de altibajos en el selectivo español. Y el desenlace fue negativo. Al cierre daba un último cambio en ... El Ibex 35 amanece con un alza del 0,6% pendiente de nuevo del Brexit. El Ibex 35 ha iniciado la sesión de este viernes con una subida del 0,6%, lo que ha llevado al selectivo a situarse en los 9.229,7 enteros a las 9.01 horas, en una jornada marcada de nuevo por el ... El Ibex 35 debería vulnerar los 9.211 puntos para tener síntomas alcistas. Ramón Bermejo, responsable del Servicio de Trading Profesional habla de los niveles técnicos que debe superar el selectivo español para volver a tener síntomas alcistas. El Ibex35 sube, desde ... El Ibex 35 hoy a mediodía sube un 0,7% impulsado por la banca y las acereras. La Bolsa de Madrid sube a mediodía de hoy un 0,7 %, animada por los aparentes avances en la negociación comercial entre China y Estados Unidos, que le permiten recuperar con holgura los 9.200 ... El Ibex 35 busca un rebote y consolidar los 9.200. El Ibex 35 ha abierto la sesión con una subida del 0,57% y se queda en 9.225 puntos. Ayer, el selectivo volvió a caer y lo hizo un 0,6%, perdiendo los 9.200 puntos. Todo ello, a pesar de las palabras ... El Ibex 35 no termina de confirmar un cambio de tendencia. Descensos del 0,60% en el Ibex 35 que vuelve a cerrar en las inmediaciones del soporte que presenta entre los 9.100 y los 9.150 puntos. Por el momento se mantiene el throw back a la media de 200 ... Europa se suma al optimismo por las negociaciones comerciales: el Ibex 35 recupera los 9.200 puntos. Europa encara el cierre del primer trimestre del año con buena cara. Las bolsas del Viejo Continente cotizan la sesión de este viernes al alza, siguiendo la estela del cierre positivo de Wall Street ...\n"
          ],
          "name": "stdout"
        }
      ]
    },
    {
      "metadata": {
        "id": "6fSIYAc1f5Y9",
        "colab_type": "code",
        "colab": {}
      },
      "cell_type": "code",
      "source": [
        "print(bing.status_code)"
      ],
      "execution_count": 0,
      "outputs": []
    },
    {
      "metadata": {
        "id": "0Gq9WVodf5ZC",
        "colab_type": "text"
      },
      "cell_type": "markdown",
      "source": [
        "## Yahoo"
      ]
    },
    {
      "metadata": {
        "id": "YU4tnrDjnx_v",
        "colab_type": "code",
        "outputId": "b6a374fc-914c-47ea-d567-fb72faed4d89",
        "colab": {
          "base_uri": "https://localhost:8080/",
          "height": 54
        }
      },
      "cell_type": "code",
      "source": [
        "def yahoo():\n",
        "  page = requests.get(url['yahoo']).text\n",
        "  soup = BeautifulSoup(page, \"html.parser\")\n",
        "  text = [p.find('h3').text + '. ' + p.find('p').text for p in soup.find(class_='searchCenterMiddle').find_all('li')]\n",
        "  if not text:\n",
        "    yahoo()\n",
        "  else:\n",
        "    continue\n",
        "  text = ' '.join(text)\n",
        "    \n",
        "  return text\n",
        "\n",
        "print(yahoo())"
      ],
      "execution_count": 0,
      "outputs": [
        {
          "output_type": "stream",
          "text": [
            "Ibex 35, en directo: subidas en Bolsa, con avances en la negociación comercial y un ojo puesto en Londres.La libra sube frente al dólar tras las pérdidas del jueves  El Ibex repunta ante perspectivas favorables de acuerdo comercial EEUU-China.El Ibex-35 inició la última sesión de la semana y el mes con un avance del 0,5 p...  La Bolsa española mantiene ganancias del 0,36 % animada por EE.UU. y China.Madrid, 29 mar (EFE). La Bolsa española mantiene ganancias del 0,36 % minutos de la apertura de la sesión, animada por el optimismo sobre las negociaciones comerciales entre EEUU y China. En ...  El Ibex pierde los 9.200 puntos con Wall Street plano.17: horas. El Ibex por debajo de los 9.200 puntos en la recta finalEl principal indicador la Bolsa española, el Ibex 35, encara la última media hora de cotización por debajo de los 9.200 puntos ...  El Ibex 35 cierra plano lastrado por la mala sesión del sector bancario.Mientras las Bolsas europeas suben de forma más decidida, el Ibex cierra con un alza del 0,03%  El Ibex 35 se asienta en los 9.200 con Wall Street en negativo.16:05 horas. El Ibex, cómodo en los 9.200 puntosEl principal indicador de la Bolsa española, el Ibex 35, se mueve con comodidad en la cota de los 9.200 puntos, gracias a registrar avances superiores ...  El IBEX 35 cae un 0,72 % tras la apertura por el miedo a la desaceleración.Madrid, 25 mar (EFE).- El principal indicador de la Bolsa española, el IBEX 35, se dejaba un 0,72 % pocos minutos después de comenzar la primera sesión de la semana y se situaba en 9.136 puntos, por el ...  El Ibex pelea por los 9.200 con Wall Street metiendo presión.14:35 horas. Wall Street mete presiónEl Ibex 35 retrocede un 0,01% testimonial y se mantiene en el filo de los 9.200 puntos. La mala noticia es que los inversores estadounidenses no ayudan y ...  El Ibex-35 vuelve a las pérdidas con la presión de telefónica y la banca.Al cierre daba un último cambio en los 9.174,7 puntos, lo que supone un recorte del 0,6%  El Ibex-35 no levanta cabeza pendiente de las novedades sobre la economía mundial.El Ibex-35 abría de nuevo con tendencia bajista, incapaz de recuperarse tras cua... \n"
          ],
          "name": "stdout"
        }
      ]
    },
    {
      "metadata": {
        "id": "MnG3DGY_f5ZL",
        "colab_type": "text"
      },
      "cell_type": "markdown",
      "source": [
        "## Duck"
      ]
    },
    {
      "metadata": {
        "id": "KnRc_Jkd1_tz",
        "colab_type": "code",
        "outputId": "62d3abe5-b1a8-4f71-ea50-93d8f214c22b",
        "colab": {
          "base_uri": "https://localhost:8080/",
          "height": 54
        }
      },
      "cell_type": "code",
      "source": [
        "def duck():\n",
        "  wd.get(url['duck'])\n",
        "  text = [t.text for t in wd.find_elements_by_xpath(\"//div[@class='results js-vertical-results']/div/div/h2/a\")]\n",
        "  text = list(filter(None, text))\n",
        "  text = ' '.join(text)\n",
        "  return text\n",
        "\n",
        "print(duck())"
      ],
      "execution_count": 76,
      "outputs": [
        {
          "output_type": "stream",
          "text": [
            "El IBEX 35 baja un 0,59 %, preocupado por el petróleo y el \"brexit\" El IBEX pierde el 0,45 % tras la apertura y también los 9.500 puntos El Ibex 35 ultima el baile de auditoras que forzó la crisis El Ibex cae y pierde los 9.500 puntos en la semana clave del Brexit El Ibex cede terreno ante prudencia tras reciente racha alcista - Reuters Las acciones de Aena pierden los 160 euros tras un recorte de RBC Capital - elEconomista.es El Ibex abre la sesión a la baja y pierde los 9.500 puntos\n"
          ],
          "name": "stdout"
        }
      ]
    },
    {
      "metadata": {
        "id": "7t2jVJAff5Zc",
        "colab_type": "text"
      },
      "cell_type": "markdown",
      "source": [
        "## qwant"
      ]
    },
    {
      "metadata": {
        "id": "LBebm5lDf5Zd",
        "colab_type": "code",
        "outputId": "06db0ac2-594e-4a89-e158-6654153c0897",
        "colab": {
          "base_uri": "https://localhost:8080/",
          "height": 34
        }
      },
      "cell_type": "code",
      "source": [
        "\n",
        "def qwant():\n",
        "  wd.get(url['qwant'])\n",
        "  text = [t.text for t in wd.find_elements_by_xpath(\"//div[@class='result-type__news__item']/div[@class='result-type__news__text--container']/a\")]\n",
        "  text = ' '.join(text)\n",
        "  return text\n",
        "\n",
        "print(qwant())"
      ],
      "execution_count": 77,
      "outputs": [
        {
          "output_type": "stream",
          "text": [
            "\n"
          ],
          "name": "stdout"
        }
      ]
    },
    {
      "metadata": {
        "id": "EtbqpSa2XzaA",
        "colab_type": "text"
      },
      "cell_type": "markdown",
      "source": [
        "## Ibex"
      ]
    },
    {
      "metadata": {
        "id": "RK7kfnO9X23T",
        "colab_type": "code",
        "outputId": "eb6cbed0-6d33-4e41-8b28-9558fb9858bc",
        "colab": {
          "base_uri": "https://localhost:8080/",
          "height": 68
        }
      },
      "cell_type": "code",
      "source": [
        "def ibex():\n",
        "  page = requests.get(url['ibex']).text \n",
        "  soup = BeautifulSoup(page, \"lxml\")\n",
        "  tabla = soup.find('table', attrs={'id': 'ctl00_Contenido_tblÍndices'})\n",
        "  name=\"\"\n",
        "  price=\"\"\n",
        "  nroFila=0\n",
        "  for fila in tabla.find_all(\"tr\"):\n",
        "      if nroFila==1:\n",
        "          nroCelda=0\n",
        "          for celda in fila.find_all('td'):\n",
        "              if nroCelda==0:\n",
        "                  name=celda.text\n",
        "                  print(\"Indice:\", name)\n",
        "              if nroCelda==2:\n",
        "                  price=celda.text\n",
        "                  print(\"Valor:\", price)\n",
        "              nroCelda=nroCelda+1\n",
        "      nroFila=nroFila+1\n",
        "  return price\n",
        "      \n",
        "ibex()"
      ],
      "execution_count": 0,
      "outputs": [
        {
          "output_type": "stream",
          "text": [
            "Indice: IBEX 35®\n",
            "Valor: 9.464,80\n"
          ],
          "name": "stdout"
        },
        {
          "output_type": "execute_result",
          "data": {
            "text/plain": [
              "'9.464,80'"
            ]
          },
          "metadata": {
            "tags": []
          },
          "execution_count": 22
        }
      ]
    },
    {
      "metadata": {
        "id": "k_XdvmPorhu8",
        "colab_type": "text"
      },
      "cell_type": "markdown",
      "source": [
        "## DATA FRAME"
      ]
    },
    {
      "metadata": {
        "id": "lipjFOe6Zk9z",
        "colab_type": "code",
        "colab": {
          "base_uri": "https://localhost:8080/",
          "height": 231
        },
        "outputId": "0657904f-7173-40e7-89b5-634790839627"
      },
      "cell_type": "code",
      "source": [
        "google = google()\n",
        "bing = bing()\n",
        "yahoo = yahoo()\n",
        "duck = duck()\n",
        "qwart = qwant()\n"
      ],
      "execution_count": 27,
      "outputs": [
        {
          "output_type": "error",
          "ename": "NameError",
          "evalue": "ignored",
          "traceback": [
            "\u001b[0;31m---------------------------------------------------------------------------\u001b[0m",
            "\u001b[0;31mNameError\u001b[0m                                 Traceback (most recent call last)",
            "\u001b[0;32m<ipython-input-27-ec351a35e983>\u001b[0m in \u001b[0;36m<module>\u001b[0;34m()\u001b[0m\n\u001b[0;32m----> 1\u001b[0;31m \u001b[0mgoogle\u001b[0m \u001b[0;34m=\u001b[0m \u001b[0mgoogle\u001b[0m\u001b[0;34m(\u001b[0m\u001b[0;34m)\u001b[0m\u001b[0;34m\u001b[0m\u001b[0;34m\u001b[0m\u001b[0m\n\u001b[0m\u001b[1;32m      2\u001b[0m \u001b[0mbing\u001b[0m \u001b[0;34m=\u001b[0m \u001b[0mbing\u001b[0m\u001b[0;34m(\u001b[0m\u001b[0;34m)\u001b[0m\u001b[0;34m\u001b[0m\u001b[0;34m\u001b[0m\u001b[0m\n\u001b[1;32m      3\u001b[0m \u001b[0myahoo\u001b[0m \u001b[0;34m=\u001b[0m \u001b[0myahoo\u001b[0m\u001b[0;34m(\u001b[0m\u001b[0;34m)\u001b[0m\u001b[0;34m\u001b[0m\u001b[0;34m\u001b[0m\u001b[0m\n\u001b[1;32m      4\u001b[0m \u001b[0mduck\u001b[0m \u001b[0;34m=\u001b[0m \u001b[0mduck\u001b[0m\u001b[0;34m(\u001b[0m\u001b[0;34m)\u001b[0m\u001b[0;34m\u001b[0m\u001b[0;34m\u001b[0m\u001b[0m\n\u001b[1;32m      5\u001b[0m \u001b[0mqwart\u001b[0m \u001b[0;34m=\u001b[0m \u001b[0mqwant\u001b[0m\u001b[0;34m(\u001b[0m\u001b[0;34m)\u001b[0m\u001b[0;34m\u001b[0m\u001b[0;34m\u001b[0m\u001b[0m\n",
            "\u001b[0;31mNameError\u001b[0m: name 'google' is not defined"
          ]
        }
      ]
    },
    {
      "metadata": {
        "id": "7G2bBp3TbtNH",
        "colab_type": "code",
        "outputId": "5728861f-e50f-4aab-94ef-b879dbc62600",
        "colab": {
          "base_uri": "https://localhost:8080/",
          "height": 102
        }
      },
      "cell_type": "code",
      "source": [
        "subscription_key = '86474408dad14988a42c985c86c2a9b5'\n",
        "text_analytics_base_url = \"https://westcentralus.api.cognitive.microsoft.com/text/analytics/v2.0/\"\n",
        "sentiment_api_url = text_analytics_base_url + \"sentiment\"\n",
        "documents = {'documents' : [\n",
        "  {'id': '1', 'language': 'es', 'text': google},\n",
        "  {'id': '2', 'language': 'es', 'text': yahoo},  \n",
        "  {'id': '3', 'language': 'es', 'text': duck},  \n",
        "  {'id': '4', 'language': 'es', 'text': qwart}\n",
        "]}\n",
        "from pprint import pprint\n",
        "headers   = {\"Ocp-Apim-Subscription-Key\": subscription_key}\n",
        "response  = requests.post(sentiment_api_url, headers=headers, json=documents)\n",
        "languages = response.json()\n",
        "pprint(languages)"
      ],
      "execution_count": 0,
      "outputs": [
        {
          "output_type": "stream",
          "text": [
            "{'documents': [{'id': '1', 'score': 0.5279329419136047},\n",
            "               {'id': '2', 'score': 0.5250626802444458},\n",
            "               {'id': '3', 'score': 0.5374531745910645},\n",
            "               {'id': '4', 'score': 0.5757575631141663}],\n",
            " 'errors': []}\n"
          ],
          "name": "stdout"
        }
      ]
    },
    {
      "metadata": {
        "id": "fWstvK7Pe_Cj",
        "colab_type": "code",
        "outputId": "7c1336ec-753e-4ce7-e346-cead3fc94646",
        "colab": {
          "base_uri": "https://localhost:8080/",
          "height": 34
        }
      },
      "cell_type": "code",
      "source": [
        "score = []\n",
        "for i in languages['documents']:\n",
        "  score.append(i['score'])\n",
        "  \n",
        "print(score)"
      ],
      "execution_count": 0,
      "outputs": [
        {
          "output_type": "stream",
          "text": [
            "[0.5279329419136047, 0.5250626802444458, 0.5374531745910645, 0.5757575631141663]\n"
          ],
          "name": "stdout"
        }
      ]
    },
    {
      "metadata": {
        "id": "saXkzdkOUeey",
        "colab_type": "code",
        "outputId": "5b7b8d30-1bb2-4b72-c95a-2fad59e03064",
        "colab": {
          "base_uri": "https://localhost:8080/",
          "height": 111
        }
      },
      "cell_type": "code",
      "source": [
        "# df = pd.DataFrame.from_dict(dic, orient='index')\n",
        "#df = pd.DataFrame(dic, index=[pd.to_datetime('now')])\n",
        "#print(df.google['2019-03-15 08:17:47'])\n",
        "#print(df.head())\n",
        "dateNow = pd.to_datetime('now')\n",
        "dic2 = {\n",
        "    (dateNow, 'text'): {'google': google, 'bing': bing, 'yahoo': yahoo, 'duck': duck, 'qwart': qwart},\n",
        "    (dateNow, 'sentiment'): {'google': score[0], 'bing': score[0], 'yahoo': score[1], 'duck': score[2], 'qwart': score[3]}\n",
        "}\n",
        "df2 = pd.DataFrame.from_dict(dic2, orient=\"index\")\n",
        "df2.head()\n",
        "\n"
      ],
      "execution_count": 0,
      "outputs": [
        {
          "output_type": "execute_result",
          "data": {
            "text/html": [
              "<div>\n",
              "<style scoped>\n",
              "    .dataframe tbody tr th:only-of-type {\n",
              "        vertical-align: middle;\n",
              "    }\n",
              "\n",
              "    .dataframe tbody tr th {\n",
              "        vertical-align: top;\n",
              "    }\n",
              "\n",
              "    .dataframe thead th {\n",
              "        text-align: right;\n",
              "    }\n",
              "</style>\n",
              "<table border=\"1\" class=\"dataframe\">\n",
              "  <thead>\n",
              "    <tr style=\"text-align: right;\">\n",
              "      <th></th>\n",
              "      <th></th>\n",
              "      <th>google</th>\n",
              "      <th>bing</th>\n",
              "      <th>yahoo</th>\n",
              "      <th>duck</th>\n",
              "      <th>qwart</th>\n",
              "    </tr>\n",
              "  </thead>\n",
              "  <tbody>\n",
              "    <tr>\n",
              "      <th rowspan=\"2\" valign=\"top\">2019-03-20 14:46:00</th>\n",
              "      <th>sentiment</th>\n",
              "      <td>0.527933</td>\n",
              "      <td>0.527933</td>\n",
              "      <td>0.525063</td>\n",
              "      <td>0.537453</td>\n",
              "      <td>0.575758</td>\n",
              "    </tr>\n",
              "    <tr>\n",
              "      <th>text</th>\n",
              "      <td>El Ibex 35 abre con pérdid...</td>\n",
              "      <td>&lt;function bing at 0x7fbfbe...</td>\n",
              "      <td>El IBEX sube un 0,03 por c...</td>\n",
              "      <td>El IBEX sube un 0,03 por c...</td>\n",
              "      <td>El Ibex 35 abre con pérdid...</td>\n",
              "    </tr>\n",
              "  </tbody>\n",
              "</table>\n",
              "</div>"
            ],
            "text/plain": [
              "                                                      google  \\\n",
              "2019-03-20 14:46:00 sentiment                       0.527933   \n",
              "                    text       El Ibex 35 abre con pérdid...   \n",
              "\n",
              "                                                        bing  \\\n",
              "2019-03-20 14:46:00 sentiment                       0.527933   \n",
              "                    text       <function bing at 0x7fbfbe...   \n",
              "\n",
              "                                                       yahoo  \\\n",
              "2019-03-20 14:46:00 sentiment                       0.525063   \n",
              "                    text       El IBEX sube un 0,03 por c...   \n",
              "\n",
              "                                                        duck  \\\n",
              "2019-03-20 14:46:00 sentiment                       0.537453   \n",
              "                    text       El IBEX sube un 0,03 por c...   \n",
              "\n",
              "                                                       qwart  \n",
              "2019-03-20 14:46:00 sentiment                       0.575758  \n",
              "                    text       El Ibex 35 abre con pérdid...  "
            ]
          },
          "metadata": {
            "tags": []
          },
          "execution_count": 59
        }
      ]
    },
    {
      "metadata": {
        "id": "51W31M_mZTe9",
        "colab_type": "code",
        "outputId": "6bde0dff-4abc-4527-fc8d-24e503efb444",
        "colab": {
          "base_uri": "https://localhost:8080/",
          "height": 111
        }
      },
      "cell_type": "code",
      "source": [
        "dic3 = {\n",
        "    (pd.to_datetime('now'), 'text'): {'google': google, 'bing': bing},\n",
        "    (pd.to_datetime('now'), 'sentiment'): {'google': 1.5, 'bing': 1.2}\n",
        "}\n",
        "df3 = pd.DataFrame.from_dict(dic3, orient=\"index\")\n",
        "df3.head()"
      ],
      "execution_count": 0,
      "outputs": [
        {
          "output_type": "execute_result",
          "data": {
            "text/html": [
              "<div>\n",
              "<style scoped>\n",
              "    .dataframe tbody tr th:only-of-type {\n",
              "        vertical-align: middle;\n",
              "    }\n",
              "\n",
              "    .dataframe tbody tr th {\n",
              "        vertical-align: top;\n",
              "    }\n",
              "\n",
              "    .dataframe thead th {\n",
              "        text-align: right;\n",
              "    }\n",
              "</style>\n",
              "<table border=\"1\" class=\"dataframe\">\n",
              "  <thead>\n",
              "    <tr style=\"text-align: right;\">\n",
              "      <th></th>\n",
              "      <th></th>\n",
              "      <th>google</th>\n",
              "      <th>bing</th>\n",
              "    </tr>\n",
              "  </thead>\n",
              "  <tbody>\n",
              "    <tr>\n",
              "      <th rowspan=\"2\" valign=\"top\">2019-03-18 18:34:36</th>\n",
              "      <th>sentiment</th>\n",
              "      <td>1.5</td>\n",
              "      <td>1.2</td>\n",
              "    </tr>\n",
              "    <tr>\n",
              "      <th>text</th>\n",
              "      <td>El Ibex 35 conquista los 9...</td>\n",
              "      <td>El Ibex-35 cierra por enci...</td>\n",
              "    </tr>\n",
              "  </tbody>\n",
              "</table>\n",
              "</div>"
            ],
            "text/plain": [
              "                                                      google  \\\n",
              "2019-03-18 18:34:36 sentiment                            1.5   \n",
              "                    text       El Ibex 35 conquista los 9...   \n",
              "\n",
              "                                                        bing  \n",
              "2019-03-18 18:34:36 sentiment                            1.2  \n",
              "                    text       El Ibex-35 cierra por enci...  "
            ]
          },
          "metadata": {
            "tags": []
          },
          "execution_count": 17
        }
      ]
    },
    {
      "metadata": {
        "id": "qOqJ2lpLYZR0",
        "colab_type": "code",
        "outputId": "33a673b0-91c0-454b-ac9b-1836a7c77651",
        "colab": {
          "base_uri": "https://localhost:8080/",
          "height": 173
        }
      },
      "cell_type": "code",
      "source": [
        "df4 = df2.append(df3)\n",
        "df4.head()"
      ],
      "execution_count": 0,
      "outputs": [
        {
          "output_type": "execute_result",
          "data": {
            "text/html": [
              "<div>\n",
              "<style scoped>\n",
              "    .dataframe tbody tr th:only-of-type {\n",
              "        vertical-align: middle;\n",
              "    }\n",
              "\n",
              "    .dataframe tbody tr th {\n",
              "        vertical-align: top;\n",
              "    }\n",
              "\n",
              "    .dataframe thead th {\n",
              "        text-align: right;\n",
              "    }\n",
              "</style>\n",
              "<table border=\"1\" class=\"dataframe\">\n",
              "  <thead>\n",
              "    <tr style=\"text-align: right;\">\n",
              "      <th></th>\n",
              "      <th></th>\n",
              "      <th>bing</th>\n",
              "      <th>duck</th>\n",
              "      <th>google</th>\n",
              "      <th>qwart</th>\n",
              "      <th>yahoo</th>\n",
              "    </tr>\n",
              "  </thead>\n",
              "  <tbody>\n",
              "    <tr>\n",
              "      <th rowspan=\"2\" valign=\"top\">2019-03-18 18:33:26</th>\n",
              "      <th>sentiment</th>\n",
              "      <td>1.2</td>\n",
              "      <td>1.4</td>\n",
              "      <td>1.5</td>\n",
              "      <td>0.3</td>\n",
              "      <td>1.3</td>\n",
              "    </tr>\n",
              "    <tr>\n",
              "      <th>text</th>\n",
              "      <td>El Ibex-35 cierra por enci...</td>\n",
              "      <td>El Ibex-35 cierra por enci...</td>\n",
              "      <td>El Ibex 35 conquista los 9...</td>\n",
              "      <td>La fusión de Deutsche Bank...</td>\n",
              "      <td>El Ibex-35 cierra por enci...</td>\n",
              "    </tr>\n",
              "    <tr>\n",
              "      <th rowspan=\"2\" valign=\"top\">2019-03-18 18:34:36</th>\n",
              "      <th>sentiment</th>\n",
              "      <td>1.2</td>\n",
              "      <td>NaN</td>\n",
              "      <td>1.5</td>\n",
              "      <td>NaN</td>\n",
              "      <td>NaN</td>\n",
              "    </tr>\n",
              "    <tr>\n",
              "      <th>text</th>\n",
              "      <td>El Ibex-35 cierra por enci...</td>\n",
              "      <td>NaN</td>\n",
              "      <td>El Ibex 35 conquista los 9...</td>\n",
              "      <td>NaN</td>\n",
              "      <td>NaN</td>\n",
              "    </tr>\n",
              "  </tbody>\n",
              "</table>\n",
              "</div>"
            ],
            "text/plain": [
              "                                                        bing  \\\n",
              "2019-03-18 18:33:26 sentiment                            1.2   \n",
              "                    text       El Ibex-35 cierra por enci...   \n",
              "2019-03-18 18:34:36 sentiment                            1.2   \n",
              "                    text       El Ibex-35 cierra por enci...   \n",
              "\n",
              "                                                        duck  \\\n",
              "2019-03-18 18:33:26 sentiment                            1.4   \n",
              "                    text       El Ibex-35 cierra por enci...   \n",
              "2019-03-18 18:34:36 sentiment                            NaN   \n",
              "                    text                                 NaN   \n",
              "\n",
              "                                                      google  \\\n",
              "2019-03-18 18:33:26 sentiment                            1.5   \n",
              "                    text       El Ibex 35 conquista los 9...   \n",
              "2019-03-18 18:34:36 sentiment                            1.5   \n",
              "                    text       El Ibex 35 conquista los 9...   \n",
              "\n",
              "                                                       qwart  \\\n",
              "2019-03-18 18:33:26 sentiment                            0.3   \n",
              "                    text       La fusión de Deutsche Bank...   \n",
              "2019-03-18 18:34:36 sentiment                            NaN   \n",
              "                    text                                 NaN   \n",
              "\n",
              "                                                       yahoo  \n",
              "2019-03-18 18:33:26 sentiment                            1.3  \n",
              "                    text       El Ibex-35 cierra por enci...  \n",
              "2019-03-18 18:34:36 sentiment                            NaN  \n",
              "                    text                                 NaN  "
            ]
          },
          "metadata": {
            "tags": []
          },
          "execution_count": 19
        }
      ]
    },
    {
      "metadata": {
        "id": "jBF4US7hY-NM",
        "colab_type": "code",
        "outputId": "e6290c12-291a-48ed-da78-854c662d2568",
        "cellView": "code",
        "colab": {
          "base_uri": "https://localhost:8080/",
          "height": 54
        }
      },
      "cell_type": "code",
      "source": [
        "#@title Texto de título predeterminado\n",
        "df4.xs('2019-03-18 15:22:31').loc['text']['google']"
      ],
      "execution_count": 0,
      "outputs": [
        {
          "output_type": "execute_result",
          "data": {
            "text/plain": [
              "'La banca impulsa al Ibex 35 por encima de los 9.400 puntos: se ...En la misma línea lo hace el Ibex 35 al registrar alzas moderadas con las que amplía los máximos anuales que alcanzó el pasado viernes. El Ibex 35 abre la semana con tímidas subidas, con toda la banca ...El Ibex 35 ha iniciado la sesión de este lunes con una subida del 0,1%, lo que ha llevado al selectivo a situarse en los 9.351,2 enteros a las\\xa0... Ibex 35: ahora o nuncaEste viernes el Ibex cerró en los máximos de la sesión y, adenñas, lo hizo con un volumen de contratación muy alto. En parte, como\\xa0... El IBEX 35 sube un 0,40 % y marca un nuevo máximo anual, en ...El principal indicador de la Bolsa española, el IBEX 35, subía un 0,40 % tras la apertura y se situaba en 9.380 puntos, con lo que marcaba un\\xa0... El Ibex 35 arranca la semana en los 9.350El Ibex 35 prolonga la racha y ha abierto con subidas del 0,09% que le colocan con los 9.350 puntos, algo impensable hace solo tres meses. Las empresas del Ibex 35 tienen más de 800 directivos con ...Las empresas del Ibex 35 contaban con 816 contratos blindados entre sus consejeros y equipos de dirección en 2017, un 7% más que el año\\xa0... El IBEX 35 sube un 0,07 % y marca un nuevo máximo anual en ...El principal indicador de la Bolsa española, el IBEX 35, ha comenzado la semana con un alza del 0,07 % que lo ha situado en los 9.349\\xa0... Estos son los directivos mejor pagados del Ibex 35Ana Botín, la presidenta del Banco Santander, fue la directiva mejor pagada del Ibex 35 (el índice bursátil con las 35 empresas más ricas) en\\xa0... El Ibex 35 sube en el cierre de la semana, con atención al BBVAEl Ibex 35 ha iniciado la sesión de este viernes con una subida del 0,16%, lo que ha llevado al selectivo a situarse en los 9.224,3 enteros,\\xa0... La prensa saca brillo a Banco SabadellLas acciones de Banco Sabadelllideran las ganancias este lunes en el IBEX 35 tras la apertura de la sesión en bolsa, después de convertirse\\xa0...'"
            ]
          },
          "metadata": {
            "tags": []
          },
          "execution_count": 78
        }
      ]
    },
    {
      "metadata": {
        "id": "Mj86I258ZAgk",
        "colab_type": "code",
        "colab": {}
      },
      "cell_type": "code",
      "source": [
        "df4.to_csv('prueba.csv')"
      ],
      "execution_count": 0,
      "outputs": []
    },
    {
      "metadata": {
        "id": "SsFJ7zqaBAd8",
        "colab_type": "code",
        "outputId": "ec8047af-bd46-41a5-effe-e9d40849ebfe",
        "colab": {
          "base_uri": "https://localhost:8080/",
          "height": 114
        }
      },
      "cell_type": "code",
      "source": [
        "dateNow = pd.to_datetime('now')\n",
        "dic_sentiment = {dateNow: {'google': 1.5, 'bing': 1.2, 'yahoo': 1.3, 'duck': 1.4, 'qwart': 0.3, 'ibex': ibex()}\n",
        "}\n",
        "df_sentiment = pd.DataFrame.from_dict(dic_sentiment, orient=\"index\")\n",
        "df_sentiment.head()"
      ],
      "execution_count": 0,
      "outputs": [
        {
          "output_type": "stream",
          "text": [
            "Indice: IBEX 35®\n",
            "Valor: 9.464,20\n"
          ],
          "name": "stdout"
        },
        {
          "output_type": "execute_result",
          "data": {
            "text/html": [
              "<div>\n",
              "<style scoped>\n",
              "    .dataframe tbody tr th:only-of-type {\n",
              "        vertical-align: middle;\n",
              "    }\n",
              "\n",
              "    .dataframe tbody tr th {\n",
              "        vertical-align: top;\n",
              "    }\n",
              "\n",
              "    .dataframe thead th {\n",
              "        text-align: right;\n",
              "    }\n",
              "</style>\n",
              "<table border=\"1\" class=\"dataframe\">\n",
              "  <thead>\n",
              "    <tr style=\"text-align: right;\">\n",
              "      <th></th>\n",
              "      <th>google</th>\n",
              "      <th>bing</th>\n",
              "      <th>yahoo</th>\n",
              "      <th>duck</th>\n",
              "      <th>qwart</th>\n",
              "      <th>ibex</th>\n",
              "    </tr>\n",
              "  </thead>\n",
              "  <tbody>\n",
              "    <tr>\n",
              "      <th>2019-03-20 12:17:44</th>\n",
              "      <td>1.5</td>\n",
              "      <td>1.2</td>\n",
              "      <td>1.3</td>\n",
              "      <td>1.4</td>\n",
              "      <td>0.3</td>\n",
              "      <td>9.464,20</td>\n",
              "    </tr>\n",
              "  </tbody>\n",
              "</table>\n",
              "</div>"
            ],
            "text/plain": [
              "                     google  bing  yahoo  duck  qwart      ibex\n",
              "2019-03-20 12:17:44     1.5   1.2    1.3   1.4    0.3  9.464,20"
            ]
          },
          "metadata": {
            "tags": []
          },
          "execution_count": 23
        }
      ]
    },
    {
      "metadata": {
        "id": "PdmHH4Dsf5ZR",
        "colab_type": "text"
      },
      "cell_type": "markdown",
      "source": [
        "## Ask"
      ]
    },
    {
      "metadata": {
        "id": "naFz3Mz85Bq-",
        "colab_type": "code",
        "outputId": "62b5aaec-4900-45e8-f60d-7a117e16bc4d",
        "colab": {
          "base_uri": "https://localhost:8080/",
          "height": 54
        }
      },
      "cell_type": "code",
      "source": [
        "def ask():\n",
        "  page = requests.get(url['ask']).text\n",
        "  soup = BeautifulSoup(page, \"html.parser\")\n",
        "  texto = [' '.join((t.find(class_='news-title').text + t.find(class_='news-summary').text).split()) for t in soup.find_all('div', class_=\"news-content\")]\n",
        "  return texto\n",
        "  \n",
        "print(ask())"
      ],
      "execution_count": 0,
      "outputs": [
        {
          "output_type": "stream",
          "text": [
            "['Day of gains on Spanish Ibex-35 stock exchange MADRID, March 6 (Xinhua) -- The Spanish Ibex-35 stock exchange on Wednesday enjoyed a day of gains after two days of slight losses and although it was... More »', \"Small loss seen on Spanish Ibex-35 stock exchange MADIRD, March 5 (Xinhua) -- The Spanish Ibex-35 stock exchange registered a very small loss on Tuesday's trading. Trading in Madrid closed on... More »\", 'IBEX TECHNOLOGIES : Reports Plans to Close Iowa Production Facility IBEX Technologies Inc. (IBEX or the Company) (TSX Venture: IBT) today reported that it plans to close its Iowa production facility as of July 31,... More »', \"Why did Instagram, YouTube and WhatsApp stop working? 35 minutes ago35 minutes ago Lots of people rely on sites like Instagram, Facebook, WhatsApp, YouTube, or Gmail, to send messages or stay up to date with what's happening, so it... More »\", \"Cheesy Easter egg and other unusual eggs 35 minutes ago35 minutes ago comments Sainsbury's There's a twist on the traditional Easter egg this year with the 'Cheester' egg hitting supermarket shelves. The 'Cheester' egg is an... More »\", \"What could happen next with Brexit? 35 minutes ago35 minutes ago comments1 It's been a busy week for Brexit so far and there's still time for a last minute twist. Prime Minister Theresa May failed to win support for her... More »\", \"Forget the floss, it's all about the triangle dance! 35 minutes ago35 minutes ago To enjoy the CBBC Newsround website at its best you will need to have JavaScript turned on. Forget the floss, it's all about the triangle dance! ... More »\", \"Crispy challenge! Chris Evans causes social media debate 35 minutes ago35 minutes ago comments Reuters Captain America is pretty busy right now trying to save the world and getting ready for the next Avengers film. But he's not too busy to... More »\", '14 Mar 2019 02:35 Lufthansa eyes stable margins, mid single-digit revenue growth in 2019 An advertising board of German air carrier Lufthansa is seen at the airport in Frankfurt, Germany, February 12, 2019. REUTERS/Kai Pfaffenbach ... More »', 'US says airstrike kills 35 (CNN) The US military announced Monday that an airstrike in Somalia killed 35 Al Shabaab fighters on Sunday. That means at least 180 fighters from... More »']\n"
          ],
          "name": "stdout"
        }
      ]
    },
    {
      "metadata": {
        "id": "MeZMWtWff5ZV",
        "colab_type": "text"
      },
      "cell_type": "markdown",
      "source": [
        "## Naver"
      ]
    },
    {
      "metadata": {
        "id": "nLkbLgkKf5ZV",
        "colab_type": "code",
        "colab": {}
      },
      "cell_type": "code",
      "source": [
        "naver = requests.get(url_naver).text\n",
        "soapNaver = BeautifulSoup(naver, \"html.parser\")"
      ],
      "execution_count": 0,
      "outputs": []
    },
    {
      "metadata": {
        "id": "sHtUCN_Jf5ZY",
        "colab_type": "text"
      },
      "cell_type": "markdown",
      "source": [
        "## Yandex"
      ]
    },
    {
      "metadata": {
        "id": "Mu001mo-f5ZZ",
        "colab_type": "code",
        "colab": {}
      },
      "cell_type": "code",
      "source": [
        "yandex = requests.get(url_yandex).text\n",
        "soapYandex = BeautifulSoup(yandex, \"html.parser\")"
      ],
      "execution_count": 0,
      "outputs": []
    },
    {
      "metadata": {
        "id": "58eiPXCpf5Zf",
        "colab_type": "text"
      },
      "cell_type": "markdown",
      "source": [
        "## Baidu"
      ]
    },
    {
      "metadata": {
        "id": "36aXwKT4f5Zg",
        "colab_type": "code",
        "colab": {}
      },
      "cell_type": "code",
      "source": [
        "try:\n",
        "    baidu = requests.get(url_baidu).text\n",
        "except:\n",
        "    print(\"error en baidu\")"
      ],
      "execution_count": 0,
      "outputs": []
    },
    {
      "metadata": {
        "scrolled": true,
        "id": "qKpbOkYyf5Zi",
        "colab_type": "code",
        "colab": {}
      },
      "cell_type": "code",
      "source": [
        "soupBaidu = BeautifulSoup(baidu, \"html.parser\")\n",
        "for text in soupBaidu.find_all('div', class_=\"c-summary\"):\n",
        "    result = text.get_text()\n",
        "    print(result)"
      ],
      "execution_count": 0,
      "outputs": []
    },
    {
      "metadata": {
        "id": "NjCe5isWf5Zk",
        "colab_type": "text"
      },
      "cell_type": "markdown",
      "source": [
        "## Pruebas "
      ]
    },
    {
      "metadata": {
        "id": "YaF8uGdQf5Zl",
        "colab_type": "code",
        "colab": {}
      },
      "cell_type": "code",
      "source": [
        "html_doc = \"\"\"<div class=\"ts Pg8zWb b80nOe C1Iii FddHQd tsUanb\"><a class=\"top NQHJEb dfhHve\" href=\"https://www.lavanguardia.com/economia/20190208/46289945507/ibex-35-dia-bolsa-espana-wall-street.html\" ping=\"/url?sa=t&amp;source=web&amp;rct=j&amp;url=https://www.lavanguardia.com/economia/20190208/46289945507/ibex-35-dia-bolsa-espana-wall-street.html&amp;ved=0ahUKEwjDiJnVgKzgAhUNgHMKHXboAgYQvIgBCCwwAQ\"><img class=\"th BbeB2d\" src=\"https://encrypted-tbn0.gstatic.com/images?q=tbn:ANd9GcSHKOWOvzVV0g2QYIoCHVcEE3gL0KGhYGGiU6MrtTfX-vjlJu9-ra4r3fp-1QoWQmN_rqRonqot\" alt=\"Imagen de la noticia para ibex 35 de La Vanguardia\" onload=\"typeof google==='object'&amp;&amp;google.aft&amp;&amp;google.aft(this)\" data-atf=\"3\"></a><div class=\"gG0TJc\"><h3 class=\"r dO0Ag\"><a class=\"l lLrAF\" href=\"https://www.lavanguardia.com/economia/20190208/46289945507/ibex-35-dia-bolsa-espana-wall-street.html\" ping=\"/url?sa=t&amp;source=web&amp;rct=j&amp;url=https://www.lavanguardia.com/economia/20190208/46289945507/ibex-35-dia-bolsa-espana-wall-street.html&amp;ved=0ahUKEwjDiJnVgKzgAhUNgHMKHXboAgYQqQIILSgAMAE\">El <em>Ibex 35</em> abre en rojo y ve cada vez más difícil los 9.000 puntos</a></h3><div class=\"slp\"><span class=\"xQ82C e8fRJf\">La Vanguardia</span><span class=\"v0c3xd\">-</span><span class=\"f nsa fwzPFf\">Hace 2 horas</span></div></div><div class=\"YiHbdc card-section\"><a class=\"RTNUJf\" href=\"https://okdiario.com/economia/mercados/2019/02/08/ibex-35-hoy-cae-alrededor-03-aferra-8-900-puntos-3680697\" ping=\"/url?sa=t&amp;source=web&amp;rct=j&amp;url=https://okdiario.com/economia/mercados/2019/02/08/ibex-35-hoy-cae-alrededor-03-aferra-8-900-puntos-3680697&amp;ved=0ahUKEwjDiJnVgKzgAhUNgHMKHXboAgYQu4gBCC4oATAB\">El <em>Ibex 35</em> hoy cae alrededor de un 0,3% y se aferra a los 8.900 puntos</a><br><span class=\"nsa xQ82C f e8fRJf\">OKDIARIO</span><span class=\"v0c3xd\">-</span><span class=\"nsa fwzPFf f\">Hace 2 horas</span></div><div class=\"gZQpfd\"></div><div class=\"YiHbdc card-section\"><a class=\"RTNUJf\" href=\"https://www.europapress.es/economia/bolsa-00348/noticia-ibex-35-cae-031-apertura-aferra-8900-enteros-20190208091215.html\" ping=\"/url?sa=t&amp;source=web&amp;rct=j&amp;url=https://www.europapress.es/economia/bolsa-00348/noticia-ibex-35-cae-031-apertura-aferra-8900-enteros-20190208091215.html&amp;ved=0ahUKEwjDiJnVgKzgAhUNgHMKHXboAgYQu4gBCC8oAjAB\">El <em>Ibex 35</em> cae un 0,31% en la apertura y se aferra a los 8.900 enteros</a><br><span class=\"nsa xQ82C f e8fRJf\">Europa Press</span><span class=\"v0c3xd\">-</span><span class=\"nsa fwzPFf f\">Hace 3 horas</span></div><div class=\"gZQpfd\"></div><div class=\"YiHbdc card-section\"><a class=\"RTNUJf\" href=\"https://valenciaplaza.com/duro-castigo-a-un-ibex-35-que-vuelve-a-alejarse-de-los-9000-puntos\" ping=\"/url?sa=t&amp;source=web&amp;rct=j&amp;url=https://valenciaplaza.com/duro-castigo-a-un-ibex-35-que-vuelve-a-alejarse-de-los-9000-puntos&amp;ved=0ahUKEwjDiJnVgKzgAhUNgHMKHXboAgYQu4gBCDAoAzAB\">Duro castigo a un <em>Ibex 35</em> que vuelve a alejarse de los 9.000 puntos</a><br><span class=\"nsa xQ82C f e8fRJf\">valenciaplaza.com</span><span class=\"v0c3xd\">-</span><span class=\"nsa fwzPFf f\">Hace 17 horas</span></div><div class=\"gZQpfd\"></div><div class=\"YiHbdc card-section\"><a class=\"RTNUJf\" href=\"https://www.estrategiasdeinversion.com/actualidad/noticias/bolsa-espana/seis-valores-del-ibex-35-que-reunen-calidad-y-n-417857\" ping=\"/url?sa=t&amp;source=web&amp;rct=j&amp;url=https://www.estrategiasdeinversion.com/actualidad/noticias/bolsa-espana/seis-valores-del-ibex-35-que-reunen-calidad-y-n-417857&amp;ved=0ahUKEwjDiJnVgKzgAhUNgHMKHXboAgYQu4gBCDEoBDAB\">Seis valores del <em>Ibex 35</em> que reúnen calidad y potencial a precios ...</a><br><span class=\"nsa xQ82C f e8fRJf\">Estrategias de Inversión</span><span class=\"v0c3xd\">-</span><span class=\"nsa fwzPFf f\">Hace 5 horas</span></div><div class=\"gZQpfd\"></div><div class=\"ErI7Gd card-section\"><a class=\"RTNUJf\" href=\"http://www.expansion.com/mercados/cronica-bolsa/2019/02/07/5c5bd713ca4741be598b4586.html\" ping=\"/url?sa=t&amp;source=web&amp;rct=j&amp;url=http://www.expansion.com/mercados/cronica-bolsa/2019/02/07/5c5bd713ca4741be598b4586.html&amp;ved=0ahUKEwjDiJnVgKzgAhUNgHMKHXboAgYQuogBCDIoBTAB\">El <em>Ibex 35</em> pierde el 9.000 por las dudas sobre la economía europea</a><br><span class=\"HgetDe DwKiF\">Opinión</span><span class=\"v0c3xd\">-</span><span class=\"xQ82C e8fRJf\">Expansión.com</span><span class=\"v0c3xd\">-</span><span class=\"f nsa fwzPFf\">Hace 18 horas</span><div class=\"cWEW3c\"><a class=\"kl0Osd\" href=\"https://news.google.com/news?ncl=d7Fc1Sx28KNHs8M89HhSUoxVcAN6M&amp;q=ibex+35&amp;lr=Spanish&amp;hl=es&amp;sa=X&amp;ved=0ahUKEwjDiJnVgKzgAhUNgHMKHXboAgYQqgIIMzAB\">Ver todos</a></div></div><div class=\"gZQpfd\"></div></div>\"\"\"\n",
        "soup = BeautifulSoup(html_doc, 'html.parser')"
      ],
      "execution_count": 0,
      "outputs": []
    },
    {
      "metadata": {
        "scrolled": true,
        "id": "r3oxdF0Bf5Zo",
        "colab_type": "code",
        "outputId": "30d7a4bc-e8eb-4fd0-e2ff-09a1c3ab4a14",
        "colab": {}
      },
      "cell_type": "code",
      "source": [
        "print(soup.prettify())"
      ],
      "execution_count": 0,
      "outputs": [
        {
          "output_type": "stream",
          "text": [
            "<div class=\"ts Pg8zWb b80nOe C1Iii FddHQd tsUanb\">\n",
            " <a class=\"top NQHJEb dfhHve\" href=\"https://www.lavanguardia.com/economia/20190208/46289945507/ibex-35-dia-bolsa-espana-wall-street.html\" ping=\"/url?sa=t&amp;source=web&amp;rct=j&amp;url=https://www.lavanguardia.com/economia/20190208/46289945507/ibex-35-dia-bolsa-espana-wall-street.html&amp;ved=0ahUKEwjDiJnVgKzgAhUNgHMKHXboAgYQvIgBCCwwAQ\">\n",
            "  <img alt=\"Imagen de la noticia para ibex 35 de La Vanguardia\" class=\"th BbeB2d\" data-atf=\"3\" onload=\"typeof google==='object'&amp;&amp;google.aft&amp;&amp;google.aft(this)\" src=\"https://encrypted-tbn0.gstatic.com/images?q=tbn:ANd9GcSHKOWOvzVV0g2QYIoCHVcEE3gL0KGhYGGiU6MrtTfX-vjlJu9-ra4r3fp-1QoWQmN_rqRonqot\"/>\n",
            " </a>\n",
            " <div class=\"gG0TJc\">\n",
            "  <h3 class=\"r dO0Ag\">\n",
            "   <a class=\"l lLrAF\" href=\"https://www.lavanguardia.com/economia/20190208/46289945507/ibex-35-dia-bolsa-espana-wall-street.html\" ping=\"/url?sa=t&amp;source=web&amp;rct=j&amp;url=https://www.lavanguardia.com/economia/20190208/46289945507/ibex-35-dia-bolsa-espana-wall-street.html&amp;ved=0ahUKEwjDiJnVgKzgAhUNgHMKHXboAgYQqQIILSgAMAE\">\n",
            "    El\n",
            "    <em>\n",
            "     Ibex 35\n",
            "    </em>\n",
            "    abre en rojo y ve cada vez más difícil los 9.000 puntos\n",
            "   </a>\n",
            "  </h3>\n",
            "  <div class=\"slp\">\n",
            "   <span class=\"xQ82C e8fRJf\">\n",
            "    La Vanguardia\n",
            "   </span>\n",
            "   <span class=\"v0c3xd\">\n",
            "    -\n",
            "   </span>\n",
            "   <span class=\"f nsa fwzPFf\">\n",
            "    Hace 2 horas\n",
            "   </span>\n",
            "  </div>\n",
            " </div>\n",
            " <div class=\"YiHbdc card-section\">\n",
            "  <a class=\"RTNUJf\" href=\"https://okdiario.com/economia/mercados/2019/02/08/ibex-35-hoy-cae-alrededor-03-aferra-8-900-puntos-3680697\" ping=\"/url?sa=t&amp;source=web&amp;rct=j&amp;url=https://okdiario.com/economia/mercados/2019/02/08/ibex-35-hoy-cae-alrededor-03-aferra-8-900-puntos-3680697&amp;ved=0ahUKEwjDiJnVgKzgAhUNgHMKHXboAgYQu4gBCC4oATAB\">\n",
            "   El\n",
            "   <em>\n",
            "    Ibex 35\n",
            "   </em>\n",
            "   hoy cae alrededor de un 0,3% y se aferra a los 8.900 puntos\n",
            "  </a>\n",
            "  <br/>\n",
            "  <span class=\"nsa xQ82C f e8fRJf\">\n",
            "   OKDIARIO\n",
            "  </span>\n",
            "  <span class=\"v0c3xd\">\n",
            "   -\n",
            "  </span>\n",
            "  <span class=\"nsa fwzPFf f\">\n",
            "   Hace 2 horas\n",
            "  </span>\n",
            " </div>\n",
            " <div class=\"gZQpfd\">\n",
            " </div>\n",
            " <div class=\"YiHbdc card-section\">\n",
            "  <a class=\"RTNUJf\" href=\"https://www.europapress.es/economia/bolsa-00348/noticia-ibex-35-cae-031-apertura-aferra-8900-enteros-20190208091215.html\" ping=\"/url?sa=t&amp;source=web&amp;rct=j&amp;url=https://www.europapress.es/economia/bolsa-00348/noticia-ibex-35-cae-031-apertura-aferra-8900-enteros-20190208091215.html&amp;ved=0ahUKEwjDiJnVgKzgAhUNgHMKHXboAgYQu4gBCC8oAjAB\">\n",
            "   El\n",
            "   <em>\n",
            "    Ibex 35\n",
            "   </em>\n",
            "   cae un 0,31% en la apertura y se aferra a los 8.900 enteros\n",
            "  </a>\n",
            "  <br/>\n",
            "  <span class=\"nsa xQ82C f e8fRJf\">\n",
            "   Europa Press\n",
            "  </span>\n",
            "  <span class=\"v0c3xd\">\n",
            "   -\n",
            "  </span>\n",
            "  <span class=\"nsa fwzPFf f\">\n",
            "   Hace 3 horas\n",
            "  </span>\n",
            " </div>\n",
            " <div class=\"gZQpfd\">\n",
            " </div>\n",
            " <div class=\"YiHbdc card-section\">\n",
            "  <a class=\"RTNUJf\" href=\"https://valenciaplaza.com/duro-castigo-a-un-ibex-35-que-vuelve-a-alejarse-de-los-9000-puntos\" ping=\"/url?sa=t&amp;source=web&amp;rct=j&amp;url=https://valenciaplaza.com/duro-castigo-a-un-ibex-35-que-vuelve-a-alejarse-de-los-9000-puntos&amp;ved=0ahUKEwjDiJnVgKzgAhUNgHMKHXboAgYQu4gBCDAoAzAB\">\n",
            "   Duro castigo a un\n",
            "   <em>\n",
            "    Ibex 35\n",
            "   </em>\n",
            "   que vuelve a alejarse de los 9.000 puntos\n",
            "  </a>\n",
            "  <br/>\n",
            "  <span class=\"nsa xQ82C f e8fRJf\">\n",
            "   valenciaplaza.com\n",
            "  </span>\n",
            "  <span class=\"v0c3xd\">\n",
            "   -\n",
            "  </span>\n",
            "  <span class=\"nsa fwzPFf f\">\n",
            "   Hace 17 horas\n",
            "  </span>\n",
            " </div>\n",
            " <div class=\"gZQpfd\">\n",
            " </div>\n",
            " <div class=\"YiHbdc card-section\">\n",
            "  <a class=\"RTNUJf\" href=\"https://www.estrategiasdeinversion.com/actualidad/noticias/bolsa-espana/seis-valores-del-ibex-35-que-reunen-calidad-y-n-417857\" ping=\"/url?sa=t&amp;source=web&amp;rct=j&amp;url=https://www.estrategiasdeinversion.com/actualidad/noticias/bolsa-espana/seis-valores-del-ibex-35-que-reunen-calidad-y-n-417857&amp;ved=0ahUKEwjDiJnVgKzgAhUNgHMKHXboAgYQu4gBCDEoBDAB\">\n",
            "   Seis valores del\n",
            "   <em>\n",
            "    Ibex 35\n",
            "   </em>\n",
            "   que reúnen calidad y potencial a precios ...\n",
            "  </a>\n",
            "  <br/>\n",
            "  <span class=\"nsa xQ82C f e8fRJf\">\n",
            "   Estrategias de Inversión\n",
            "  </span>\n",
            "  <span class=\"v0c3xd\">\n",
            "   -\n",
            "  </span>\n",
            "  <span class=\"nsa fwzPFf f\">\n",
            "   Hace 5 horas\n",
            "  </span>\n",
            " </div>\n",
            " <div class=\"gZQpfd\">\n",
            " </div>\n",
            " <div class=\"ErI7Gd card-section\">\n",
            "  <a class=\"RTNUJf\" href=\"http://www.expansion.com/mercados/cronica-bolsa/2019/02/07/5c5bd713ca4741be598b4586.html\" ping=\"/url?sa=t&amp;source=web&amp;rct=j&amp;url=http://www.expansion.com/mercados/cronica-bolsa/2019/02/07/5c5bd713ca4741be598b4586.html&amp;ved=0ahUKEwjDiJnVgKzgAhUNgHMKHXboAgYQuogBCDIoBTAB\">\n",
            "   El\n",
            "   <em>\n",
            "    Ibex 35\n",
            "   </em>\n",
            "   pierde el 9.000 por las dudas sobre la economía europea\n",
            "  </a>\n",
            "  <br/>\n",
            "  <span class=\"HgetDe DwKiF\">\n",
            "   Opinión\n",
            "  </span>\n",
            "  <span class=\"v0c3xd\">\n",
            "   -\n",
            "  </span>\n",
            "  <span class=\"xQ82C e8fRJf\">\n",
            "   Expansión.com\n",
            "  </span>\n",
            "  <span class=\"v0c3xd\">\n",
            "   -\n",
            "  </span>\n",
            "  <span class=\"f nsa fwzPFf\">\n",
            "   Hace 18 horas\n",
            "  </span>\n",
            "  <div class=\"cWEW3c\">\n",
            "   <a class=\"kl0Osd\" href=\"https://news.google.com/news?ncl=d7Fc1Sx28KNHs8M89HhSUoxVcAN6M&amp;q=ibex+35&amp;lr=Spanish&amp;hl=es&amp;sa=X&amp;ved=0ahUKEwjDiJnVgKzgAhUNgHMKHXboAgYQqgIIMzAB\">\n",
            "    Ver todos\n",
            "   </a>\n",
            "  </div>\n",
            " </div>\n",
            " <div class=\"gZQpfd\">\n",
            " </div>\n",
            "</div>\n"
          ],
          "name": "stdout"
        }
      ]
    },
    {
      "metadata": {
        "id": "Sh747-dmf5Zs",
        "colab_type": "code",
        "outputId": "7ec7a484-f344-438e-b0ce-3e7faf169074",
        "colab": {}
      },
      "cell_type": "code",
      "source": [
        "result=\"\"\n",
        "for text in soup.find_all('a', 'RTNUJf'):\n",
        "    result = result + \" \" + text.get_text()  \n",
        "print(result)\n",
        "tokens = [t for t in result.split()]\n",
        "print (tokens)"
      ],
      "execution_count": 0,
      "outputs": [
        {
          "output_type": "stream",
          "text": [
            " El Ibex 35 hoy cae alrededor de un 0,3% y se aferra a los 8.900 puntos El Ibex 35 cae un 0,31% en la apertura y se aferra a los 8.900 enteros Duro castigo a un Ibex 35 que vuelve a alejarse de los 9.000 puntos Seis valores del Ibex 35 que reúnen calidad y potencial a precios ... El Ibex 35 pierde el 9.000 por las dudas sobre la economía europea\n",
            "['El', 'Ibex', '35', 'hoy', 'cae', 'alrededor', 'de', 'un', '0,3%', 'y', 'se', 'aferra', 'a', 'los', '8.900', 'puntos', 'El', 'Ibex', '35', 'cae', 'un', '0,31%', 'en', 'la', 'apertura', 'y', 'se', 'aferra', 'a', 'los', '8.900', 'enteros', 'Duro', 'castigo', 'a', 'un', 'Ibex', '35', 'que', 'vuelve', 'a', 'alejarse', 'de', 'los', '9.000', 'puntos', 'Seis', 'valores', 'del', 'Ibex', '35', 'que', 'reúnen', 'calidad', 'y', 'potencial', 'a', 'precios', '...', 'El', 'Ibex', '35', 'pierde', 'el', '9.000', 'por', 'las', 'dudas', 'sobre', 'la', 'economía', 'europea']\n"
          ],
          "name": "stdout"
        }
      ]
    },
    {
      "metadata": {
        "id": "DiOTpz2zf5Zx",
        "colab_type": "code",
        "colab": {}
      },
      "cell_type": "code",
      "source": [
        "import nltk\n",
        "from matplotlib import pyplot as plt\n",
        "%matplotlib inline\n",
        "plt.style.use('ggplot')"
      ],
      "execution_count": 0,
      "outputs": []
    },
    {
      "metadata": {
        "id": "wL9Tzzwxf5Zu",
        "colab_type": "code",
        "outputId": "f381e3aa-c468-4fd3-8b02-c59bc913eb07",
        "colab": {}
      },
      "cell_type": "code",
      "source": [
        "clean_tokens = [word for word in tokens if word.lower() not in stopwords.words('spanish')]\n",
        "print(clean_tokens)"
      ],
      "execution_count": 0,
      "outputs": [
        {
          "output_type": "stream",
          "text": [
            "['Ibex', '35', 'hoy', 'cae', 'alrededor', '0,3%', 'aferra', '8.900', 'puntos', 'Ibex', '35', 'cae', '0,31%', 'apertura', 'aferra', '8.900', 'enteros', 'Duro', 'castigo', 'Ibex', '35', 'vuelve', 'alejarse', '9.000', 'puntos', 'Seis', 'valores', 'Ibex', '35', 'reúnen', 'calidad', 'potencial', 'precios', '...', 'Ibex', '35', 'pierde', '9.000', 'dudas', 'economía', 'europea']\n"
          ],
          "name": "stdout"
        }
      ]
    },
    {
      "metadata": {
        "id": "M0pUMrg2f5Z0",
        "colab_type": "code",
        "outputId": "9c5d4f5c-ac42-4bf1-c7d2-476e72b1dfdc",
        "colab": {}
      },
      "cell_type": "code",
      "source": [
        "freq = nltk.FreqDist(clean_tokens)\n",
        " \n",
        "for key,val in freq.items():\n",
        " \n",
        "    print (str(key) + ':' + str(val))"
      ],
      "execution_count": 0,
      "outputs": [
        {
          "output_type": "stream",
          "text": [
            "Ibex:5\n",
            "35:5\n",
            "hoy:1\n",
            "cae:2\n",
            "alrededor:1\n",
            "0,3%:1\n",
            "aferra:2\n",
            "8.900:2\n",
            "puntos:2\n",
            "0,31%:1\n",
            "apertura:1\n",
            "enteros:1\n",
            "Duro:1\n",
            "castigo:1\n",
            "vuelve:1\n",
            "alejarse:1\n",
            "9.000:2\n",
            "Seis:1\n",
            "valores:1\n",
            "reúnen:1\n",
            "calidad:1\n",
            "potencial:1\n",
            "precios:1\n",
            "...:1\n",
            "pierde:1\n",
            "dudas:1\n",
            "economía:1\n",
            "europea:1\n"
          ],
          "name": "stdout"
        }
      ]
    },
    {
      "metadata": {
        "id": "--1KMFN3f5Z3",
        "colab_type": "code",
        "outputId": "3a80945a-5f8c-4240-f7eb-7e10b3db1fa2",
        "colab": {}
      },
      "cell_type": "code",
      "source": [
        "from nltk.corpus import stopwords\n",
        "nltk.download('stopwords')"
      ],
      "execution_count": 0,
      "outputs": [
        {
          "output_type": "stream",
          "text": [
            "[nltk_data] Downloading package stopwords to\n",
            "[nltk_data]     C:\\Users\\46856585\\AppData\\Roaming\\nltk_data...\n",
            "[nltk_data]   Unzipping corpora\\stopwords.zip.\n"
          ],
          "name": "stderr"
        },
        {
          "output_type": "execute_result",
          "data": {
            "text/plain": [
              "True"
            ]
          },
          "metadata": {
            "tags": []
          },
          "execution_count": 47
        }
      ]
    },
    {
      "metadata": {
        "id": "IjY_jRFa5jqT",
        "colab_type": "code",
        "colab": {}
      },
      "cell_type": "code",
      "source": [
        "import sys\n",
        "sys.path.insert(0,'/usr/lib/chromium-browser/chromedriver')"
      ],
      "execution_count": 0,
      "outputs": []
    },
    {
      "metadata": {
        "scrolled": true,
        "id": "YtHcQSVMf5aA",
        "colab_type": "code",
        "outputId": "2091f75e-9759-40c2-dcdf-61211a4105b3",
        "colab": {}
      },
      "cell_type": "code",
      "source": [
        "for a in soup.select('a'):\n",
        "    print(a.text)"
      ],
      "execution_count": 0,
      "outputs": [
        {
          "output_type": "stream",
          "text": [
            "\n",
            "El Ibex 35 abre en rojo y ve cada vez más difícil los 9.000 puntos\n",
            "El Ibex 35 hoy cae alrededor de un 0,3% y se aferra a los 8.900 puntos\n",
            "El Ibex 35 cae un 0,31% en la apertura y se aferra a los 8.900 enteros\n",
            "Duro castigo a un Ibex 35 que vuelve a alejarse de los 9.000 puntos\n",
            "Seis valores del Ibex 35 que reúnen calidad y potencial a precios ...\n",
            "El Ibex 35 pierde el 9.000 por las dudas sobre la economía europea\n",
            "Ver todos\n"
          ],
          "name": "stdout"
        }
      ]
    },
    {
      "metadata": {
        "scrolled": false,
        "id": "J8FbFNB0f5Z6",
        "colab_type": "code",
        "outputId": "5371d90d-24c3-4616-8611-8c0361b77749",
        "colab": {}
      },
      "cell_type": "code",
      "source": [
        "plt.figure(figsize=(14,8))\n",
        "freq.plot(20, cumulative=False)"
      ],
      "execution_count": 0,
      "outputs": [
        {
          "output_type": "display_data",
          "data": {
            "image/png": "[encoded data removed]",
            "text/plain": [
              "<Figure size 1008x576 with 1 Axes>"
            ]
          },
          "metadata": {
            "tags": []
          }
        }
      ]
    },
    {
      "metadata": {
        "id": "vtwkSOF3PHlL",
        "colab_type": "text"
      },
      "cell_type": "markdown",
      "source": [
        "### Fecha y calendario"
      ]
    },
    {
      "metadata": {
        "scrolled": true,
        "id": "UMoT6STaf5Z8",
        "colab_type": "code",
        "outputId": "6deaabc0-b78f-407e-f42f-daa4bef739e2",
        "colab": {
          "base_uri": "https://localhost:8080/",
          "height": 68
        }
      },
      "cell_type": "code",
      "source": [
        "import datetime\n",
        "print(type(datetime.datetime.now()))\n",
        "\n",
        "print(datetime.date.today())\n",
        "print(datetime.datetime.now().strftime(\"%Y-%m-%d %H:%M\"))"
      ],
      "execution_count": 0,
      "outputs": [
        {
          "output_type": "stream",
          "text": [
            "<class 'datetime.datetime'>\n",
            "2019-03-12\n",
            "2019-03-12 11:28\n"
          ],
          "name": "stdout"
        }
      ]
    },
    {
      "metadata": {
        "id": "Eo43VrtWsEjD",
        "colab_type": "code",
        "outputId": "e4d7f232-f6a4-43f2-8271-4f45eb589714",
        "colab": {
          "base_uri": "https://localhost:8080/",
          "height": 102
        }
      },
      "cell_type": "code",
      "source": [
        "import pandas as pd\n",
        "\n",
        "print(pd.to_datetime('today'))\n",
        "print(type(pd.to_datetime('today')))\n",
        "print(pd.to_datetime('now'))\n",
        "print(pd.Timestamp(\"today\"))\n",
        "print(type(pd.Timestamp(\"today\")))"
      ],
      "execution_count": 0,
      "outputs": [
        {
          "output_type": "stream",
          "text": [
            "2019-03-12 00:00:00\n",
            "<class 'pandas._libs.tslib.Timestamp'>\n",
            "2019-03-12 11:41:15\n",
            "2019-03-12 11:41:15.842078\n",
            "<class 'pandas._libs.tslib.Timestamp'>\n"
          ],
          "name": "stdout"
        }
      ]
    },
    {
      "metadata": {
        "id": "2coFukErduXC",
        "colab_type": "code",
        "colab": {}
      },
      "cell_type": "code",
      "source": [
        "import calendar\n",
        "import requests\n",
        " \n",
        "cal = calendar.Calendar()\n",
        " \n",
        "\n",
        "for year in range(2008, 2009):\n",
        "    for month in range(1, 13):\n",
        "        monthdays = [d for d in cal.itermonthdays(year, month) if d != 0]\n",
        "        for day in monthdays:\n",
        "            print(day, year)"
      ],
      "execution_count": 0,
      "outputs": []
    },
    {
      "metadata": {
        "id": "meDQgX1sMcjg",
        "colab_type": "text"
      },
      "cell_type": "markdown",
      "source": [
        "### Dato vacio: rellenar"
      ]
    },
    {
      "metadata": {
        "id": "0GYPkjN--11W",
        "colab_type": "code",
        "colab": {}
      },
      "cell_type": "code",
      "source": [
        "df_s3 = pd.read_csv(\"s3://webscraping-buscadores/scrapBuscadores.csv\", parse_dates=True, index_col=0)\n",
        "df_s3"
      ],
      "execution_count": 0,
      "outputs": []
    },
    {
      "metadata": {
        "id": "LmSWrAoaBqR9",
        "colab_type": "code",
        "colab": {
          "base_uri": "https://localhost:8080/",
          "height": 34
        },
        "outputId": "cba18242-be4a-4d5e-92e5-bb9902a2699c"
      },
      "cell_type": "code",
      "source": [
        "qwart = qwant()\n",
        "qwart"
      ],
      "execution_count": 94,
      "outputs": [
        {
          "output_type": "execute_result",
          "data": {
            "text/plain": [
              "''"
            ]
          },
          "metadata": {
            "tags": []
          },
          "execution_count": 94
        }
      ]
    },
    {
      "metadata": {
        "id": "OcYQ6bWTASlL",
        "colab_type": "code",
        "colab": {}
      },
      "cell_type": "code",
      "source": [
        "df_s3.loc['2019-04-08']['qwart'] = qwart"
      ],
      "execution_count": 0,
      "outputs": []
    },
    {
      "metadata": {
        "id": "670yGnKJB-9S",
        "colab_type": "code",
        "colab": {
          "base_uri": "https://localhost:8080/",
          "height": 235
        },
        "outputId": "e53f6627-f956-417e-e284-99a2947ee4a9"
      },
      "cell_type": "code",
      "source": [
        "df_s3"
      ],
      "execution_count": 111,
      "outputs": [
        {
          "output_type": "execute_result",
          "data": {
            "text/html": [
              "<div>\n",
              "<style scoped>\n",
              "    .dataframe tbody tr th:only-of-type {\n",
              "        vertical-align: middle;\n",
              "    }\n",
              "\n",
              "    .dataframe tbody tr th {\n",
              "        vertical-align: top;\n",
              "    }\n",
              "\n",
              "    .dataframe thead th {\n",
              "        text-align: right;\n",
              "    }\n",
              "</style>\n",
              "<table border=\"1\" class=\"dataframe\">\n",
              "  <thead>\n",
              "    <tr style=\"text-align: right;\">\n",
              "      <th></th>\n",
              "      <th>google</th>\n",
              "      <th>bing</th>\n",
              "      <th>yahoo</th>\n",
              "      <th>duck</th>\n",
              "      <th>qwart</th>\n",
              "    </tr>\n",
              "    <tr>\n",
              "      <th>date</th>\n",
              "      <th></th>\n",
              "      <th></th>\n",
              "      <th></th>\n",
              "      <th></th>\n",
              "      <th></th>\n",
              "    </tr>\n",
              "  </thead>\n",
              "  <tbody>\n",
              "    <tr>\n",
              "      <th>2019-04-02 06:32:18.008319</th>\n",
              "      <td>Banca, eléctricas, energía...</td>\n",
              "      <td>El Ibex-35 rebasa lo 9.300...</td>\n",
              "      <td>Ibex 35, en directo: regre...</td>\n",
              "      <td>Ibex 35, en directo: regre...</td>\n",
              "      <td>Ibex 35, en directo: regre...</td>\n",
              "    </tr>\n",
              "    <tr>\n",
              "      <th>2019-04-03 07:01:29.719095</th>\n",
              "      <td>¿Oportunidad en los valore...</td>\n",
              "      <td>El Ibex-35 choca con los 9...</td>\n",
              "      <td>El Ibex resiste en verde a...</td>\n",
              "      <td>El Ibex resiste en verde a...</td>\n",
              "      <td>¿Oportunidad en los valore...</td>\n",
              "    </tr>\n",
              "    <tr>\n",
              "      <th>2019-04-04 06:17:13.820924</th>\n",
              "      <td>Los bancos aúpan al Ibex 3...</td>\n",
              "      <td>El Ibex-35 cierra en máxim...</td>\n",
              "      <td>El Ibex 35 asegura los 9.4...</td>\n",
              "      <td>El Ibex 35 asegura los 9.4...</td>\n",
              "      <td>El Ibex-35 cierra en máxim...</td>\n",
              "    </tr>\n",
              "    <tr>\n",
              "      <th>2019-04-05 06:03:11.708111</th>\n",
              "      <td>El Ibex 35 recupera los 9....</td>\n",
              "      <td>El Ibex 35 duda a un paso ...</td>\n",
              "      <td>El IBEX 35 marca un nuevo ...</td>\n",
              "      <td>El IBEX 35 marca un nuevo ...</td>\n",
              "      <td>La recuperación del Ibex 3...</td>\n",
              "    </tr>\n",
              "    <tr>\n",
              "      <th>2019-04-08 06:36:31.530514</th>\n",
              "      <td>Las empresas del Ibex 35 r...</td>\n",
              "      <td>El Ibex 35 ultima el baile...</td>\n",
              "      <td>Ibex 35, en directo: vuelv...</td>\n",
              "      <td>El Ibex 35 ultima el baile...</td>\n",
              "      <td></td>\n",
              "    </tr>\n",
              "  </tbody>\n",
              "</table>\n",
              "</div>"
            ],
            "text/plain": [
              "                                                   google  \\\n",
              "date                                                        \n",
              "2019-04-02 06:32:18.008319  Banca, eléctricas, energía...   \n",
              "2019-04-03 07:01:29.719095  ¿Oportunidad en los valore...   \n",
              "2019-04-04 06:17:13.820924  Los bancos aúpan al Ibex 3...   \n",
              "2019-04-05 06:03:11.708111  El Ibex 35 recupera los 9....   \n",
              "2019-04-08 06:36:31.530514  Las empresas del Ibex 35 r...   \n",
              "\n",
              "                                                     bing  \\\n",
              "date                                                        \n",
              "2019-04-02 06:32:18.008319  El Ibex-35 rebasa lo 9.300...   \n",
              "2019-04-03 07:01:29.719095  El Ibex-35 choca con los 9...   \n",
              "2019-04-04 06:17:13.820924  El Ibex-35 cierra en máxim...   \n",
              "2019-04-05 06:03:11.708111  El Ibex 35 duda a un paso ...   \n",
              "2019-04-08 06:36:31.530514  El Ibex 35 ultima el baile...   \n",
              "\n",
              "                                                    yahoo  \\\n",
              "date                                                        \n",
              "2019-04-02 06:32:18.008319  Ibex 35, en directo: regre...   \n",
              "2019-04-03 07:01:29.719095  El Ibex resiste en verde a...   \n",
              "2019-04-04 06:17:13.820924  El Ibex 35 asegura los 9.4...   \n",
              "2019-04-05 06:03:11.708111  El IBEX 35 marca un nuevo ...   \n",
              "2019-04-08 06:36:31.530514  Ibex 35, en directo: vuelv...   \n",
              "\n",
              "                                                     duck  \\\n",
              "date                                                        \n",
              "2019-04-02 06:32:18.008319  Ibex 35, en directo: regre...   \n",
              "2019-04-03 07:01:29.719095  El Ibex resiste en verde a...   \n",
              "2019-04-04 06:17:13.820924  El Ibex 35 asegura los 9.4...   \n",
              "2019-04-05 06:03:11.708111  El IBEX 35 marca un nuevo ...   \n",
              "2019-04-08 06:36:31.530514  El Ibex 35 ultima el baile...   \n",
              "\n",
              "                                                    qwart  \n",
              "date                                                       \n",
              "2019-04-02 06:32:18.008319  Ibex 35, en directo: regre...  \n",
              "2019-04-03 07:01:29.719095  ¿Oportunidad en los valore...  \n",
              "2019-04-04 06:17:13.820924  El Ibex-35 cierra en máxim...  \n",
              "2019-04-05 06:03:11.708111  La recuperación del Ibex 3...  \n",
              "2019-04-08 06:36:31.530514                                 "
            ]
          },
          "metadata": {
            "tags": []
          },
          "execution_count": 111
        }
      ]
    },
    {
      "metadata": {
        "id": "mmP52rSECKBB",
        "colab_type": "code",
        "colab": {}
      },
      "cell_type": "code",
      "source": [
        "df_s3.to_csv('scrapBuscadores.csv')"
      ],
      "execution_count": 0,
      "outputs": []
    },
    {
      "metadata": {
        "id": "6HY-u49CCv7w",
        "colab_type": "code",
        "colab": {}
      },
      "cell_type": "code",
      "source": [
        "import boto3\n",
        "ACCESS_KEY= ''\n",
        "SECRET_KEY = ''\n",
        "s3 = boto3.resource('s3', aws_access_key_id=ACCESS_KEY, aws_secret_access_key=SECRET_KEY)\n",
        "s3.meta.client.upload_file('scrapBuscadores.csv', 'webscraping-buscadores', 'scrapBuscadores.csv')"
      ],
      "execution_count": 0,
      "outputs": []
    },
    {
      "metadata": {
        "id": "Sq60dTtiLTMy",
        "colab_type": "text"
      },
      "cell_type": "markdown",
      "source": [
        "### Llamada a la API"
      ]
    },
    {
      "metadata": {
        "id": "dOifg-FhJlUx",
        "colab_type": "code",
        "colab": {}
      },
      "cell_type": "code",
      "source": [
        "def variosValores(x):\n",
        "  ''' suponemos que se llama a la api y se devuelven 3 datos'''\n",
        "  y = len(x)\n",
        "  z = x.isdigit()\n",
        "  t = x.count('El')\n",
        "  \n",
        "  return y, z, t"
      ],
      "execution_count": 0,
      "outputs": []
    },
    {
      "metadata": {
        "id": "DpgnLfM6o-LG",
        "colab_type": "code",
        "colab": {
          "base_uri": "https://localhost:8080/",
          "height": 235
        },
        "outputId": "9d401673-488b-4a75-f2f2-0c10ae0e2635"
      },
      "cell_type": "code",
      "source": [
        "df_prueba = pd.DataFrame()\n",
        "#df_prueba['len_google', 'dig_google'] = df_s3.google.apply(lambda x, y: len(x), x.isdigit() )\n",
        "df_prueba[['google_pos', 'google_neg', 'google_neu']] = df_s3.google.apply(lambda x: pd.Series(variosValores(x)))\n",
        "df_prueba"
      ],
      "execution_count": 125,
      "outputs": [
        {
          "output_type": "execute_result",
          "data": {
            "text/html": [
              "<div>\n",
              "<style scoped>\n",
              "    .dataframe tbody tr th:only-of-type {\n",
              "        vertical-align: middle;\n",
              "    }\n",
              "\n",
              "    .dataframe tbody tr th {\n",
              "        vertical-align: top;\n",
              "    }\n",
              "\n",
              "    .dataframe thead th {\n",
              "        text-align: right;\n",
              "    }\n",
              "</style>\n",
              "<table border=\"1\" class=\"dataframe\">\n",
              "  <thead>\n",
              "    <tr style=\"text-align: right;\">\n",
              "      <th></th>\n",
              "      <th>google_pos</th>\n",
              "      <th>google_neg</th>\n",
              "      <th>google_neu</th>\n",
              "    </tr>\n",
              "    <tr>\n",
              "      <th>date</th>\n",
              "      <th></th>\n",
              "      <th></th>\n",
              "      <th></th>\n",
              "    </tr>\n",
              "  </thead>\n",
              "  <tbody>\n",
              "    <tr>\n",
              "      <th>2019-04-02 06:32:18.008319</th>\n",
              "      <td>2091</td>\n",
              "      <td>False</td>\n",
              "      <td>11</td>\n",
              "    </tr>\n",
              "    <tr>\n",
              "      <th>2019-04-03 07:01:29.719095</th>\n",
              "      <td>2090</td>\n",
              "      <td>False</td>\n",
              "      <td>8</td>\n",
              "    </tr>\n",
              "    <tr>\n",
              "      <th>2019-04-04 06:17:13.820924</th>\n",
              "      <td>2072</td>\n",
              "      <td>False</td>\n",
              "      <td>11</td>\n",
              "    </tr>\n",
              "    <tr>\n",
              "      <th>2019-04-05 06:03:11.708111</th>\n",
              "      <td>2102</td>\n",
              "      <td>False</td>\n",
              "      <td>11</td>\n",
              "    </tr>\n",
              "    <tr>\n",
              "      <th>2019-04-08 06:36:31.530514</th>\n",
              "      <td>2095</td>\n",
              "      <td>False</td>\n",
              "      <td>6</td>\n",
              "    </tr>\n",
              "  </tbody>\n",
              "</table>\n",
              "</div>"
            ],
            "text/plain": [
              "                            google_pos  google_neg  google_neu\n",
              "date                                                          \n",
              "2019-04-02 06:32:18.008319        2091       False          11\n",
              "2019-04-03 07:01:29.719095        2090       False           8\n",
              "2019-04-04 06:17:13.820924        2072       False          11\n",
              "2019-04-05 06:03:11.708111        2102       False          11\n",
              "2019-04-08 06:36:31.530514        2095       False           6"
            ]
          },
          "metadata": {
            "tags": []
          },
          "execution_count": 125
        }
      ]
    }
  ]
}